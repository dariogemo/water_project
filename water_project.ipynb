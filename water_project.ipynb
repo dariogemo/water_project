{
 "cells": [
  {
   "cell_type": "markdown",
   "metadata": {},
   "source": [
    "# Import packages"
   ]
  },
  {
   "cell_type": "code",
   "execution_count": 100,
   "metadata": {},
   "outputs": [],
   "source": [
    "import numpy as np\n",
    "import pandas as pd\n",
    "from matplotlib import pyplot as plt\n",
    "import plotly.express as px\n",
    "import seaborn as sns\n",
    "from imblearn.under_sampling import RandomUnderSampler\n",
    "from sklearn.model_selection import train_test_split, GridSearchCV, RandomizedSearchCV\n",
    "from sklearn import svm\n",
    "from sklearn.linear_model import LogisticRegression\n",
    "from sklearn.metrics import f1_score\n",
    "from sklearn.pipeline import make_pipeline\n",
    "from sklearn.preprocessing import StandardScaler\n",
    "import pickle\n",
    "import funzioni as fn\n",
    "\n",
    "plt.rcParams.update({'xtick.color' : 'black', \n",
    "                     'ytick.color' : 'black', \n",
    "                     'axes.labelcolor' : 'black', \n",
    "                     'axes.edgecolor' : 'black', \n",
    "                     'figure.facecolor' : 'white', \n",
    "                     'axes.facecolor' : '#f7ead4', \n",
    "                     'axes.grid' : True, \n",
    "                     'axes.axisbelow' : True, \n",
    "                     'grid.color' : 'white'})\n",
    "colors = sns.color_palette('pastel')[0:5]\n"
   ]
  },
  {
   "cell_type": "markdown",
   "metadata": {},
   "source": [
    "# Load the .csv file into a Dataframe"
   ]
  },
  {
   "cell_type": "code",
   "execution_count": 101,
   "metadata": {},
   "outputs": [],
   "source": [
    "df = pd.read_csv('csv\\Water Quality Prediction.csv')\n",
    "df.set_index('Index', inplace = True)"
   ]
  },
  {
   "cell_type": "markdown",
   "metadata": {},
   "source": [
    "# Do some primordial EDA on the dataframe"
   ]
  },
  {
   "cell_type": "code",
   "execution_count": 102,
   "metadata": {},
   "outputs": [
    {
     "data": {
      "text/html": [
       "<div>\n",
       "<style scoped>\n",
       "    .dataframe tbody tr th:only-of-type {\n",
       "        vertical-align: middle;\n",
       "    }\n",
       "\n",
       "    .dataframe tbody tr th {\n",
       "        vertical-align: top;\n",
       "    }\n",
       "\n",
       "    .dataframe thead th {\n",
       "        text-align: right;\n",
       "    }\n",
       "</style>\n",
       "<table border=\"1\" class=\"dataframe\">\n",
       "  <thead>\n",
       "    <tr style=\"text-align: right;\">\n",
       "      <th></th>\n",
       "      <th>pH</th>\n",
       "      <th>Iron</th>\n",
       "      <th>Nitrate</th>\n",
       "      <th>Chloride</th>\n",
       "      <th>Lead</th>\n",
       "      <th>Zinc</th>\n",
       "      <th>Color</th>\n",
       "      <th>Turbidity</th>\n",
       "      <th>Fluoride</th>\n",
       "      <th>Copper</th>\n",
       "      <th>...</th>\n",
       "      <th>Chlorine</th>\n",
       "      <th>Manganese</th>\n",
       "      <th>Total Dissolved Solids</th>\n",
       "      <th>Source</th>\n",
       "      <th>Water Temperature</th>\n",
       "      <th>Air Temperature</th>\n",
       "      <th>Month</th>\n",
       "      <th>Day</th>\n",
       "      <th>Time of Day</th>\n",
       "      <th>Target</th>\n",
       "    </tr>\n",
       "    <tr>\n",
       "      <th>Index</th>\n",
       "      <th></th>\n",
       "      <th></th>\n",
       "      <th></th>\n",
       "      <th></th>\n",
       "      <th></th>\n",
       "      <th></th>\n",
       "      <th></th>\n",
       "      <th></th>\n",
       "      <th></th>\n",
       "      <th></th>\n",
       "      <th></th>\n",
       "      <th></th>\n",
       "      <th></th>\n",
       "      <th></th>\n",
       "      <th></th>\n",
       "      <th></th>\n",
       "      <th></th>\n",
       "      <th></th>\n",
       "      <th></th>\n",
       "      <th></th>\n",
       "      <th></th>\n",
       "    </tr>\n",
       "  </thead>\n",
       "  <tbody>\n",
       "    <tr>\n",
       "      <th>0</th>\n",
       "      <td>8.332988</td>\n",
       "      <td>0.000083</td>\n",
       "      <td>8.605777</td>\n",
       "      <td>122.799772</td>\n",
       "      <td>3.710000e-52</td>\n",
       "      <td>3.434827</td>\n",
       "      <td>Colorless</td>\n",
       "      <td>0.022683</td>\n",
       "      <td>0.607283</td>\n",
       "      <td>0.144599</td>\n",
       "      <td>...</td>\n",
       "      <td>3.708178</td>\n",
       "      <td>2.270000e-15</td>\n",
       "      <td>332.118789</td>\n",
       "      <td>NaN</td>\n",
       "      <td>NaN</td>\n",
       "      <td>43.493324</td>\n",
       "      <td>January</td>\n",
       "      <td>29.0</td>\n",
       "      <td>4.0</td>\n",
       "      <td>0</td>\n",
       "    </tr>\n",
       "    <tr>\n",
       "      <th>1</th>\n",
       "      <td>6.917863</td>\n",
       "      <td>0.000081</td>\n",
       "      <td>3.734167</td>\n",
       "      <td>227.029851</td>\n",
       "      <td>7.850000e-94</td>\n",
       "      <td>1.245317</td>\n",
       "      <td>Faint Yellow</td>\n",
       "      <td>0.019007</td>\n",
       "      <td>0.622874</td>\n",
       "      <td>0.437835</td>\n",
       "      <td>...</td>\n",
       "      <td>3.292038</td>\n",
       "      <td>8.020000e-07</td>\n",
       "      <td>284.641984</td>\n",
       "      <td>Lake</td>\n",
       "      <td>15.348981</td>\n",
       "      <td>71.220586</td>\n",
       "      <td>November</td>\n",
       "      <td>26.0</td>\n",
       "      <td>16.0</td>\n",
       "      <td>0</td>\n",
       "    </tr>\n",
       "    <tr>\n",
       "      <th>2</th>\n",
       "      <td>5.443762</td>\n",
       "      <td>0.020106</td>\n",
       "      <td>3.816994</td>\n",
       "      <td>230.995630</td>\n",
       "      <td>5.290000e-76</td>\n",
       "      <td>0.528280</td>\n",
       "      <td>Light Yellow</td>\n",
       "      <td>0.319956</td>\n",
       "      <td>0.423423</td>\n",
       "      <td>0.431588</td>\n",
       "      <td>...</td>\n",
       "      <td>3.560224</td>\n",
       "      <td>7.007989e-02</td>\n",
       "      <td>570.054094</td>\n",
       "      <td>River</td>\n",
       "      <td>11.643467</td>\n",
       "      <td>44.891330</td>\n",
       "      <td>January</td>\n",
       "      <td>31.0</td>\n",
       "      <td>8.0</td>\n",
       "      <td>0</td>\n",
       "    </tr>\n",
       "    <tr>\n",
       "      <th>3</th>\n",
       "      <td>7.955339</td>\n",
       "      <td>0.143988</td>\n",
       "      <td>8.224944</td>\n",
       "      <td>178.129940</td>\n",
       "      <td>4.000000e-176</td>\n",
       "      <td>4.027879</td>\n",
       "      <td>Near Colorless</td>\n",
       "      <td>0.166319</td>\n",
       "      <td>0.208454</td>\n",
       "      <td>0.239451</td>\n",
       "      <td>...</td>\n",
       "      <td>3.516907</td>\n",
       "      <td>2.468295e-02</td>\n",
       "      <td>100.043838</td>\n",
       "      <td>Ground</td>\n",
       "      <td>10.092392</td>\n",
       "      <td>60.843233</td>\n",
       "      <td>April</td>\n",
       "      <td>1.0</td>\n",
       "      <td>21.0</td>\n",
       "      <td>0</td>\n",
       "    </tr>\n",
       "    <tr>\n",
       "      <th>4</th>\n",
       "      <td>8.091909</td>\n",
       "      <td>0.002167</td>\n",
       "      <td>9.925788</td>\n",
       "      <td>186.540872</td>\n",
       "      <td>4.170000e-132</td>\n",
       "      <td>3.807511</td>\n",
       "      <td>Light Yellow</td>\n",
       "      <td>0.004867</td>\n",
       "      <td>0.222912</td>\n",
       "      <td>0.616574</td>\n",
       "      <td>...</td>\n",
       "      <td>3.177849</td>\n",
       "      <td>3.296139e-03</td>\n",
       "      <td>168.075545</td>\n",
       "      <td>Spring</td>\n",
       "      <td>15.249416</td>\n",
       "      <td>69.336671</td>\n",
       "      <td>June</td>\n",
       "      <td>29.0</td>\n",
       "      <td>7.0</td>\n",
       "      <td>0</td>\n",
       "    </tr>\n",
       "  </tbody>\n",
       "</table>\n",
       "<p>5 rows × 23 columns</p>\n",
       "</div>"
      ],
      "text/plain": [
       "             pH      Iron   Nitrate    Chloride           Lead      Zinc  \\\n",
       "Index                                                                      \n",
       "0      8.332988  0.000083  8.605777  122.799772   3.710000e-52  3.434827   \n",
       "1      6.917863  0.000081  3.734167  227.029851   7.850000e-94  1.245317   \n",
       "2      5.443762  0.020106  3.816994  230.995630   5.290000e-76  0.528280   \n",
       "3      7.955339  0.143988  8.224944  178.129940  4.000000e-176  4.027879   \n",
       "4      8.091909  0.002167  9.925788  186.540872  4.170000e-132  3.807511   \n",
       "\n",
       "                Color  Turbidity  Fluoride    Copper  ...  Chlorine  \\\n",
       "Index                                                 ...             \n",
       "0           Colorless   0.022683  0.607283  0.144599  ...  3.708178   \n",
       "1        Faint Yellow   0.019007  0.622874  0.437835  ...  3.292038   \n",
       "2        Light Yellow   0.319956  0.423423  0.431588  ...  3.560224   \n",
       "3      Near Colorless   0.166319  0.208454  0.239451  ...  3.516907   \n",
       "4        Light Yellow   0.004867  0.222912  0.616574  ...  3.177849   \n",
       "\n",
       "          Manganese  Total Dissolved Solids  Source  Water Temperature  \\\n",
       "Index                                                                    \n",
       "0      2.270000e-15              332.118789     NaN                NaN   \n",
       "1      8.020000e-07              284.641984    Lake          15.348981   \n",
       "2      7.007989e-02              570.054094   River          11.643467   \n",
       "3      2.468295e-02              100.043838  Ground          10.092392   \n",
       "4      3.296139e-03              168.075545  Spring          15.249416   \n",
       "\n",
       "       Air Temperature     Month   Day  Time of Day Target  \n",
       "Index                                                       \n",
       "0            43.493324   January  29.0          4.0      0  \n",
       "1            71.220586  November  26.0         16.0      0  \n",
       "2            44.891330   January  31.0          8.0      0  \n",
       "3            60.843233     April   1.0         21.0      0  \n",
       "4            69.336671      June  29.0          7.0      0  \n",
       "\n",
       "[5 rows x 23 columns]"
      ]
     },
     "execution_count": 102,
     "metadata": {},
     "output_type": "execute_result"
    }
   ],
   "source": [
    "df.head(5)"
   ]
  },
  {
   "cell_type": "code",
   "execution_count": 103,
   "metadata": {},
   "outputs": [
    {
     "data": {
      "text/plain": [
       "(1048575, 23)"
      ]
     },
     "execution_count": 103,
     "metadata": {},
     "output_type": "execute_result"
    }
   ],
   "source": [
    "df.shape"
   ]
  },
  {
   "cell_type": "code",
   "execution_count": 104,
   "metadata": {},
   "outputs": [
    {
     "name": "stdout",
     "output_type": "stream",
     "text": [
      "<class 'pandas.core.frame.DataFrame'>\n",
      "Index: 1048575 entries, 0 to 1048574\n",
      "Data columns (total 23 columns):\n",
      " #   Column                  Non-Null Count    Dtype  \n",
      "---  ------                  --------------    -----  \n",
      " 0   pH                      1028344 non-null  float64\n",
      " 1   Iron                    1041584 non-null  float64\n",
      " 2   Nitrate                 1029880 non-null  float64\n",
      " 3   Chloride                1017741 non-null  float64\n",
      " 4   Lead                    1043891 non-null  float64\n",
      " 5   Zinc                    1020900 non-null  float64\n",
      " 6   Color                   1047594 non-null  object \n",
      " 7   Turbidity               1039881 non-null  float64\n",
      " 8   Fluoride                1015357 non-null  float64\n",
      " 9   Copper                  1013693 non-null  float64\n",
      " 10  Odor                    1017243 non-null  float64\n",
      " 11  Sulfate                 1014050 non-null  float64\n",
      " 12  Conductivity            1019772 non-null  float64\n",
      " 13  Chlorine                1038413 non-null  float64\n",
      " 14  Manganese               1029236 non-null  float64\n",
      " 15  Total Dissolved Solids  1048277 non-null  float64\n",
      " 16  Source                  1033040 non-null  object \n",
      " 17  Water Temperature       1018887 non-null  float64\n",
      " 18  Air Temperature         1043272 non-null  float64\n",
      " 19  Month                   1031654 non-null  object \n",
      " 20  Day                     1031026 non-null  float64\n",
      " 21  Time of Day             1028214 non-null  float64\n",
      " 22  Target                  1048575 non-null  int64  \n",
      "dtypes: float64(19), int64(1), object(3)\n",
      "memory usage: 192.0+ MB\n"
     ]
    }
   ],
   "source": [
    "df.info()"
   ]
  },
  {
   "cell_type": "code",
   "execution_count": 105,
   "metadata": {},
   "outputs": [
    {
     "data": {
      "text/html": [
       "<div>\n",
       "<style scoped>\n",
       "    .dataframe tbody tr th:only-of-type {\n",
       "        vertical-align: middle;\n",
       "    }\n",
       "\n",
       "    .dataframe tbody tr th {\n",
       "        vertical-align: top;\n",
       "    }\n",
       "\n",
       "    .dataframe thead th {\n",
       "        text-align: right;\n",
       "    }\n",
       "</style>\n",
       "<table border=\"1\" class=\"dataframe\">\n",
       "  <thead>\n",
       "    <tr style=\"text-align: right;\">\n",
       "      <th></th>\n",
       "      <th>count</th>\n",
       "      <th>mean</th>\n",
       "      <th>std</th>\n",
       "      <th>min</th>\n",
       "      <th>25%</th>\n",
       "      <th>50%</th>\n",
       "      <th>75%</th>\n",
       "      <th>max</th>\n",
       "    </tr>\n",
       "  </thead>\n",
       "  <tbody>\n",
       "    <tr>\n",
       "      <th>pH</th>\n",
       "      <td>1028344.0</td>\n",
       "      <td>7.449869</td>\n",
       "      <td>0.847846</td>\n",
       "      <td>2.058008e+00</td>\n",
       "      <td>6.914812e+00</td>\n",
       "      <td>7.452940e+00</td>\n",
       "      <td>8.001406e+00</td>\n",
       "      <td>12.891960</td>\n",
       "    </tr>\n",
       "    <tr>\n",
       "      <th>Iron</th>\n",
       "      <td>1041584.0</td>\n",
       "      <td>0.113965</td>\n",
       "      <td>0.443319</td>\n",
       "      <td>2.050000e-53</td>\n",
       "      <td>8.950000e-06</td>\n",
       "      <td>2.054149e-03</td>\n",
       "      <td>4.977795e-02</td>\n",
       "      <td>15.748603</td>\n",
       "    </tr>\n",
       "    <tr>\n",
       "      <th>Nitrate</th>\n",
       "      <td>1029880.0</td>\n",
       "      <td>6.078584</td>\n",
       "      <td>3.131874</td>\n",
       "      <td>2.861727e-01</td>\n",
       "      <td>3.952811e+00</td>\n",
       "      <td>5.564798e+00</td>\n",
       "      <td>7.584930e+00</td>\n",
       "      <td>73.072931</td>\n",
       "    </tr>\n",
       "    <tr>\n",
       "      <th>Chloride</th>\n",
       "      <td>1017741.0</td>\n",
       "      <td>181.865998</td>\n",
       "      <td>65.766569</td>\n",
       "      <td>2.941350e+01</td>\n",
       "      <td>1.374347e+02</td>\n",
       "      <td>1.747464e+02</td>\n",
       "      <td>2.156446e+02</td>\n",
       "      <td>1430.548852</td>\n",
       "    </tr>\n",
       "    <tr>\n",
       "      <th>Lead</th>\n",
       "      <td>1043891.0</td>\n",
       "      <td>0.001292</td>\n",
       "      <td>0.030301</td>\n",
       "      <td>0.000000e+00</td>\n",
       "      <td>8.290000e-123</td>\n",
       "      <td>1.520000e-62</td>\n",
       "      <td>2.820000e-27</td>\n",
       "      <td>3.503948</td>\n",
       "    </tr>\n",
       "    <tr>\n",
       "      <th>Zinc</th>\n",
       "      <td>1020900.0</td>\n",
       "      <td>1.528928</td>\n",
       "      <td>1.505436</td>\n",
       "      <td>6.350000e-07</td>\n",
       "      <td>4.127921e-01</td>\n",
       "      <td>1.074800e+00</td>\n",
       "      <td>2.214154e+00</td>\n",
       "      <td>28.368672</td>\n",
       "    </tr>\n",
       "    <tr>\n",
       "      <th>Turbidity</th>\n",
       "      <td>1039881.0</td>\n",
       "      <td>0.483591</td>\n",
       "      <td>0.861474</td>\n",
       "      <td>1.410000e-14</td>\n",
       "      <td>3.692472e-02</td>\n",
       "      <td>1.997574e-01</td>\n",
       "      <td>5.928613e-01</td>\n",
       "      <td>19.296113</td>\n",
       "    </tr>\n",
       "    <tr>\n",
       "      <th>Fluoride</th>\n",
       "      <td>1015357.0</td>\n",
       "      <td>0.941014</td>\n",
       "      <td>0.792490</td>\n",
       "      <td>4.550000e-06</td>\n",
       "      <td>3.706065e-01</td>\n",
       "      <td>7.654291e-01</td>\n",
       "      <td>1.318265e+00</td>\n",
       "      <td>12.851710</td>\n",
       "    </tr>\n",
       "    <tr>\n",
       "      <th>Copper</th>\n",
       "      <td>1013693.0</td>\n",
       "      <td>0.493944</td>\n",
       "      <td>0.566243</td>\n",
       "      <td>2.100000e-09</td>\n",
       "      <td>1.260900e-01</td>\n",
       "      <td>3.389322e-01</td>\n",
       "      <td>6.789152e-01</td>\n",
       "      <td>11.390555</td>\n",
       "    </tr>\n",
       "    <tr>\n",
       "      <th>Odor</th>\n",
       "      <td>1017243.0</td>\n",
       "      <td>1.772788</td>\n",
       "      <td>1.051316</td>\n",
       "      <td>1.100125e-02</td>\n",
       "      <td>8.772584e-01</td>\n",
       "      <td>1.744323e+00</td>\n",
       "      <td>2.611824e+00</td>\n",
       "      <td>4.141991</td>\n",
       "    </tr>\n",
       "    <tr>\n",
       "      <th>Sulfate</th>\n",
       "      <td>1014050.0</td>\n",
       "      <td>144.600936</td>\n",
       "      <td>66.721560</td>\n",
       "      <td>1.194073e+01</td>\n",
       "      <td>9.746143e+01</td>\n",
       "      <td>1.339778e+02</td>\n",
       "      <td>1.803459e+02</td>\n",
       "      <td>1393.433430</td>\n",
       "    </tr>\n",
       "    <tr>\n",
       "      <th>Conductivity</th>\n",
       "      <td>1019772.0</td>\n",
       "      <td>424.837571</td>\n",
       "      <td>189.756112</td>\n",
       "      <td>1.305482e+01</td>\n",
       "      <td>2.863260e+02</td>\n",
       "      <td>3.970023e+02</td>\n",
       "      <td>5.333383e+02</td>\n",
       "      <td>1891.515730</td>\n",
       "    </tr>\n",
       "    <tr>\n",
       "      <th>Chlorine</th>\n",
       "      <td>1038413.0</td>\n",
       "      <td>3.236978</td>\n",
       "      <td>0.715081</td>\n",
       "      <td>9.994110e-01</td>\n",
       "      <td>2.737515e+00</td>\n",
       "      <td>3.198937e+00</td>\n",
       "      <td>3.685177e+00</td>\n",
       "      <td>10.688417</td>\n",
       "    </tr>\n",
       "    <tr>\n",
       "      <th>Manganese</th>\n",
       "      <td>1029236.0</td>\n",
       "      <td>0.093528</td>\n",
       "      <td>0.440370</td>\n",
       "      <td>1.380000e-46</td>\n",
       "      <td>2.060000e-06</td>\n",
       "      <td>5.372950e-04</td>\n",
       "      <td>1.369394e-02</td>\n",
       "      <td>23.740860</td>\n",
       "    </tr>\n",
       "    <tr>\n",
       "      <th>Total Dissolved Solids</th>\n",
       "      <td>1048277.0</td>\n",
       "      <td>264.787230</td>\n",
       "      <td>154.369662</td>\n",
       "      <td>1.064299e-02</td>\n",
       "      <td>1.318069e+02</td>\n",
       "      <td>2.635694e+02</td>\n",
       "      <td>3.949597e+02</td>\n",
       "      <td>579.799458</td>\n",
       "    </tr>\n",
       "    <tr>\n",
       "      <th>Water Temperature</th>\n",
       "      <td>1018887.0</td>\n",
       "      <td>19.153600</td>\n",
       "      <td>11.379627</td>\n",
       "      <td>6.661938e-01</td>\n",
       "      <td>1.135982e+01</td>\n",
       "      <td>1.646738e+01</td>\n",
       "      <td>2.386571e+01</td>\n",
       "      <td>243.005083</td>\n",
       "    </tr>\n",
       "    <tr>\n",
       "      <th>Air Temperature</th>\n",
       "      <td>1043272.0</td>\n",
       "      <td>60.032513</td>\n",
       "      <td>18.083975</td>\n",
       "      <td>-3.387091e+01</td>\n",
       "      <td>4.784209e+01</td>\n",
       "      <td>6.002168e+01</td>\n",
       "      <td>7.223478e+01</td>\n",
       "      <td>144.078518</td>\n",
       "    </tr>\n",
       "    <tr>\n",
       "      <th>Day</th>\n",
       "      <td>1031026.0</td>\n",
       "      <td>15.731963</td>\n",
       "      <td>8.798726</td>\n",
       "      <td>1.000000e+00</td>\n",
       "      <td>8.000000e+00</td>\n",
       "      <td>1.600000e+01</td>\n",
       "      <td>2.300000e+01</td>\n",
       "      <td>31.000000</td>\n",
       "    </tr>\n",
       "    <tr>\n",
       "      <th>Time of Day</th>\n",
       "      <td>1028214.0</td>\n",
       "      <td>11.490623</td>\n",
       "      <td>6.925925</td>\n",
       "      <td>0.000000e+00</td>\n",
       "      <td>5.000000e+00</td>\n",
       "      <td>1.100000e+01</td>\n",
       "      <td>1.700000e+01</td>\n",
       "      <td>23.000000</td>\n",
       "    </tr>\n",
       "    <tr>\n",
       "      <th>Target</th>\n",
       "      <td>1048575.0</td>\n",
       "      <td>0.229582</td>\n",
       "      <td>0.420564</td>\n",
       "      <td>0.000000e+00</td>\n",
       "      <td>0.000000e+00</td>\n",
       "      <td>0.000000e+00</td>\n",
       "      <td>0.000000e+00</td>\n",
       "      <td>1.000000</td>\n",
       "    </tr>\n",
       "  </tbody>\n",
       "</table>\n",
       "</div>"
      ],
      "text/plain": [
       "                            count        mean         std           min  \\\n",
       "pH                      1028344.0    7.449869    0.847846  2.058008e+00   \n",
       "Iron                    1041584.0    0.113965    0.443319  2.050000e-53   \n",
       "Nitrate                 1029880.0    6.078584    3.131874  2.861727e-01   \n",
       "Chloride                1017741.0  181.865998   65.766569  2.941350e+01   \n",
       "Lead                    1043891.0    0.001292    0.030301  0.000000e+00   \n",
       "Zinc                    1020900.0    1.528928    1.505436  6.350000e-07   \n",
       "Turbidity               1039881.0    0.483591    0.861474  1.410000e-14   \n",
       "Fluoride                1015357.0    0.941014    0.792490  4.550000e-06   \n",
       "Copper                  1013693.0    0.493944    0.566243  2.100000e-09   \n",
       "Odor                    1017243.0    1.772788    1.051316  1.100125e-02   \n",
       "Sulfate                 1014050.0  144.600936   66.721560  1.194073e+01   \n",
       "Conductivity            1019772.0  424.837571  189.756112  1.305482e+01   \n",
       "Chlorine                1038413.0    3.236978    0.715081  9.994110e-01   \n",
       "Manganese               1029236.0    0.093528    0.440370  1.380000e-46   \n",
       "Total Dissolved Solids  1048277.0  264.787230  154.369662  1.064299e-02   \n",
       "Water Temperature       1018887.0   19.153600   11.379627  6.661938e-01   \n",
       "Air Temperature         1043272.0   60.032513   18.083975 -3.387091e+01   \n",
       "Day                     1031026.0   15.731963    8.798726  1.000000e+00   \n",
       "Time of Day             1028214.0   11.490623    6.925925  0.000000e+00   \n",
       "Target                  1048575.0    0.229582    0.420564  0.000000e+00   \n",
       "\n",
       "                                  25%           50%           75%          max  \n",
       "pH                       6.914812e+00  7.452940e+00  8.001406e+00    12.891960  \n",
       "Iron                     8.950000e-06  2.054149e-03  4.977795e-02    15.748603  \n",
       "Nitrate                  3.952811e+00  5.564798e+00  7.584930e+00    73.072931  \n",
       "Chloride                 1.374347e+02  1.747464e+02  2.156446e+02  1430.548852  \n",
       "Lead                    8.290000e-123  1.520000e-62  2.820000e-27     3.503948  \n",
       "Zinc                     4.127921e-01  1.074800e+00  2.214154e+00    28.368672  \n",
       "Turbidity                3.692472e-02  1.997574e-01  5.928613e-01    19.296113  \n",
       "Fluoride                 3.706065e-01  7.654291e-01  1.318265e+00    12.851710  \n",
       "Copper                   1.260900e-01  3.389322e-01  6.789152e-01    11.390555  \n",
       "Odor                     8.772584e-01  1.744323e+00  2.611824e+00     4.141991  \n",
       "Sulfate                  9.746143e+01  1.339778e+02  1.803459e+02  1393.433430  \n",
       "Conductivity             2.863260e+02  3.970023e+02  5.333383e+02  1891.515730  \n",
       "Chlorine                 2.737515e+00  3.198937e+00  3.685177e+00    10.688417  \n",
       "Manganese                2.060000e-06  5.372950e-04  1.369394e-02    23.740860  \n",
       "Total Dissolved Solids   1.318069e+02  2.635694e+02  3.949597e+02   579.799458  \n",
       "Water Temperature        1.135982e+01  1.646738e+01  2.386571e+01   243.005083  \n",
       "Air Temperature          4.784209e+01  6.002168e+01  7.223478e+01   144.078518  \n",
       "Day                      8.000000e+00  1.600000e+01  2.300000e+01    31.000000  \n",
       "Time of Day              5.000000e+00  1.100000e+01  1.700000e+01    23.000000  \n",
       "Target                   0.000000e+00  0.000000e+00  0.000000e+00     1.000000  "
      ]
     },
     "execution_count": 105,
     "metadata": {},
     "output_type": "execute_result"
    }
   ],
   "source": [
    "df.describe().T"
   ]
  },
  {
   "cell_type": "code",
   "execution_count": 106,
   "metadata": {},
   "outputs": [
    {
     "data": {
      "text/plain": [
       "pH                        20231\n",
       "Iron                       6991\n",
       "Nitrate                   18695\n",
       "Chloride                  30834\n",
       "Lead                       4684\n",
       "Zinc                      27675\n",
       "Color                       981\n",
       "Turbidity                  8694\n",
       "Fluoride                  33218\n",
       "Copper                    34882\n",
       "Odor                      31332\n",
       "Sulfate                   34525\n",
       "Conductivity              28803\n",
       "Chlorine                  10162\n",
       "Manganese                 19339\n",
       "Total Dissolved Solids      298\n",
       "Source                    15535\n",
       "Water Temperature         29688\n",
       "Air Temperature            5303\n",
       "Month                     16921\n",
       "Day                       17549\n",
       "Time of Day               20361\n",
       "Target                        0\n",
       "dtype: int64"
      ]
     },
     "execution_count": 106,
     "metadata": {},
     "output_type": "execute_result"
    }
   ],
   "source": [
    "df.isnull().sum()"
   ]
  },
  {
   "cell_type": "markdown",
   "metadata": {},
   "source": [
    "Drop the columns that don't interfeer in the potability of the water and rename the remaining columns so they are more accessible for the analysis done later"
   ]
  },
  {
   "cell_type": "code",
   "execution_count": 107,
   "metadata": {},
   "outputs": [],
   "source": [
    "df.drop(['Day', 'Time of Day', 'Month', 'Water Temperature', 'Air Temperature', 'Source'], axis = 1, inplace = True)"
   ]
  },
  {
   "cell_type": "code",
   "execution_count": 108,
   "metadata": {},
   "outputs": [
    {
     "data": {
      "text/plain": [
       "Index(['pH', 'Iron', 'Nitrate', 'Chloride', 'Lead', 'Zinc', 'Color',\n",
       "       'Turbidity', 'Fluoride', 'Copper', 'Odor', 'Sulfate', 'Conductivity',\n",
       "       'Chlorine', 'Manganese', 'Total Dissolved Solids', 'Target'],\n",
       "      dtype='object')"
      ]
     },
     "execution_count": 108,
     "metadata": {},
     "output_type": "execute_result"
    }
   ],
   "source": [
    "df.columns"
   ]
  },
  {
   "cell_type": "code",
   "execution_count": 109,
   "metadata": {},
   "outputs": [],
   "source": [
    "df.columns = ['pH', 'Iron', 'Nitrate', 'Chloride', 'Lead', 'Zinc', 'Color',\n",
    "       'Turbidity', 'Fluoride', 'Copper', 'Odor', 'Sulfate', 'Conductivity',\n",
    "       'Chlorine', 'Manganese', 'Total_Diss_Solids', 'Potability']"
   ]
  },
  {
   "cell_type": "markdown",
   "metadata": {},
   "source": [
    "Let's see how our dataframe looks like now"
   ]
  },
  {
   "cell_type": "code",
   "execution_count": 110,
   "metadata": {},
   "outputs": [
    {
     "data": {
      "text/html": [
       "<div>\n",
       "<style scoped>\n",
       "    .dataframe tbody tr th:only-of-type {\n",
       "        vertical-align: middle;\n",
       "    }\n",
       "\n",
       "    .dataframe tbody tr th {\n",
       "        vertical-align: top;\n",
       "    }\n",
       "\n",
       "    .dataframe thead th {\n",
       "        text-align: right;\n",
       "    }\n",
       "</style>\n",
       "<table border=\"1\" class=\"dataframe\">\n",
       "  <thead>\n",
       "    <tr style=\"text-align: right;\">\n",
       "      <th></th>\n",
       "      <th>pH</th>\n",
       "      <th>Iron</th>\n",
       "      <th>Nitrate</th>\n",
       "      <th>Chloride</th>\n",
       "      <th>Lead</th>\n",
       "      <th>Zinc</th>\n",
       "      <th>Color</th>\n",
       "      <th>Turbidity</th>\n",
       "      <th>Fluoride</th>\n",
       "      <th>Copper</th>\n",
       "      <th>Odor</th>\n",
       "      <th>Sulfate</th>\n",
       "      <th>Conductivity</th>\n",
       "      <th>Chlorine</th>\n",
       "      <th>Manganese</th>\n",
       "      <th>Total_Diss_Solids</th>\n",
       "      <th>Potability</th>\n",
       "    </tr>\n",
       "    <tr>\n",
       "      <th>Index</th>\n",
       "      <th></th>\n",
       "      <th></th>\n",
       "      <th></th>\n",
       "      <th></th>\n",
       "      <th></th>\n",
       "      <th></th>\n",
       "      <th></th>\n",
       "      <th></th>\n",
       "      <th></th>\n",
       "      <th></th>\n",
       "      <th></th>\n",
       "      <th></th>\n",
       "      <th></th>\n",
       "      <th></th>\n",
       "      <th></th>\n",
       "      <th></th>\n",
       "      <th></th>\n",
       "    </tr>\n",
       "  </thead>\n",
       "  <tbody>\n",
       "    <tr>\n",
       "      <th>0</th>\n",
       "      <td>8.332988</td>\n",
       "      <td>0.000083</td>\n",
       "      <td>8.605777</td>\n",
       "      <td>122.799772</td>\n",
       "      <td>3.710000e-52</td>\n",
       "      <td>3.434827</td>\n",
       "      <td>Colorless</td>\n",
       "      <td>0.022683</td>\n",
       "      <td>0.607283</td>\n",
       "      <td>0.144599</td>\n",
       "      <td>1.626212</td>\n",
       "      <td>87.266538</td>\n",
       "      <td>471.683357</td>\n",
       "      <td>3.708178</td>\n",
       "      <td>2.270000e-15</td>\n",
       "      <td>332.118789</td>\n",
       "      <td>0</td>\n",
       "    </tr>\n",
       "    <tr>\n",
       "      <th>1</th>\n",
       "      <td>6.917863</td>\n",
       "      <td>0.000081</td>\n",
       "      <td>3.734167</td>\n",
       "      <td>227.029851</td>\n",
       "      <td>7.850000e-94</td>\n",
       "      <td>1.245317</td>\n",
       "      <td>Faint Yellow</td>\n",
       "      <td>0.019007</td>\n",
       "      <td>0.622874</td>\n",
       "      <td>0.437835</td>\n",
       "      <td>1.686049</td>\n",
       "      <td>144.010981</td>\n",
       "      <td>432.844908</td>\n",
       "      <td>3.292038</td>\n",
       "      <td>8.020000e-07</td>\n",
       "      <td>284.641984</td>\n",
       "      <td>0</td>\n",
       "    </tr>\n",
       "    <tr>\n",
       "      <th>2</th>\n",
       "      <td>5.443762</td>\n",
       "      <td>0.020106</td>\n",
       "      <td>3.816994</td>\n",
       "      <td>230.995630</td>\n",
       "      <td>5.290000e-76</td>\n",
       "      <td>0.528280</td>\n",
       "      <td>Light Yellow</td>\n",
       "      <td>0.319956</td>\n",
       "      <td>0.423423</td>\n",
       "      <td>0.431588</td>\n",
       "      <td>3.414619</td>\n",
       "      <td>275.702107</td>\n",
       "      <td>990.201209</td>\n",
       "      <td>3.560224</td>\n",
       "      <td>7.007989e-02</td>\n",
       "      <td>570.054094</td>\n",
       "      <td>0</td>\n",
       "    </tr>\n",
       "    <tr>\n",
       "      <th>3</th>\n",
       "      <td>7.955339</td>\n",
       "      <td>0.143988</td>\n",
       "      <td>8.224944</td>\n",
       "      <td>178.129940</td>\n",
       "      <td>4.000000e-176</td>\n",
       "      <td>4.027879</td>\n",
       "      <td>Near Colorless</td>\n",
       "      <td>0.166319</td>\n",
       "      <td>0.208454</td>\n",
       "      <td>0.239451</td>\n",
       "      <td>NaN</td>\n",
       "      <td>147.163233</td>\n",
       "      <td>237.028468</td>\n",
       "      <td>3.516907</td>\n",
       "      <td>2.468295e-02</td>\n",
       "      <td>100.043838</td>\n",
       "      <td>0</td>\n",
       "    </tr>\n",
       "    <tr>\n",
       "      <th>4</th>\n",
       "      <td>8.091909</td>\n",
       "      <td>0.002167</td>\n",
       "      <td>9.925788</td>\n",
       "      <td>186.540872</td>\n",
       "      <td>4.170000e-132</td>\n",
       "      <td>3.807511</td>\n",
       "      <td>Light Yellow</td>\n",
       "      <td>0.004867</td>\n",
       "      <td>0.222912</td>\n",
       "      <td>0.616574</td>\n",
       "      <td>0.795310</td>\n",
       "      <td>175.275175</td>\n",
       "      <td>385.025855</td>\n",
       "      <td>3.177849</td>\n",
       "      <td>3.296139e-03</td>\n",
       "      <td>168.075545</td>\n",
       "      <td>0</td>\n",
       "    </tr>\n",
       "  </tbody>\n",
       "</table>\n",
       "</div>"
      ],
      "text/plain": [
       "             pH      Iron   Nitrate    Chloride           Lead      Zinc  \\\n",
       "Index                                                                      \n",
       "0      8.332988  0.000083  8.605777  122.799772   3.710000e-52  3.434827   \n",
       "1      6.917863  0.000081  3.734167  227.029851   7.850000e-94  1.245317   \n",
       "2      5.443762  0.020106  3.816994  230.995630   5.290000e-76  0.528280   \n",
       "3      7.955339  0.143988  8.224944  178.129940  4.000000e-176  4.027879   \n",
       "4      8.091909  0.002167  9.925788  186.540872  4.170000e-132  3.807511   \n",
       "\n",
       "                Color  Turbidity  Fluoride    Copper      Odor     Sulfate  \\\n",
       "Index                                                                        \n",
       "0           Colorless   0.022683  0.607283  0.144599  1.626212   87.266538   \n",
       "1        Faint Yellow   0.019007  0.622874  0.437835  1.686049  144.010981   \n",
       "2        Light Yellow   0.319956  0.423423  0.431588  3.414619  275.702107   \n",
       "3      Near Colorless   0.166319  0.208454  0.239451       NaN  147.163233   \n",
       "4        Light Yellow   0.004867  0.222912  0.616574  0.795310  175.275175   \n",
       "\n",
       "       Conductivity  Chlorine     Manganese  Total_Diss_Solids  Potability  \n",
       "Index                                                                       \n",
       "0        471.683357  3.708178  2.270000e-15         332.118789           0  \n",
       "1        432.844908  3.292038  8.020000e-07         284.641984           0  \n",
       "2        990.201209  3.560224  7.007989e-02         570.054094           0  \n",
       "3        237.028468  3.516907  2.468295e-02         100.043838           0  \n",
       "4        385.025855  3.177849  3.296139e-03         168.075545           0  "
      ]
     },
     "execution_count": 110,
     "metadata": {},
     "output_type": "execute_result"
    }
   ],
   "source": [
    "df.head()"
   ]
  },
  {
   "cell_type": "markdown",
   "metadata": {},
   "source": [
    "### Replace strings variables with numbers"
   ]
  },
  {
   "cell_type": "markdown",
   "metadata": {},
   "source": [
    "For the prediction model used later on, we need to have numeric variables and right now we have some columns that have string values."
   ]
  },
  {
   "cell_type": "code",
   "execution_count": 111,
   "metadata": {},
   "outputs": [
    {
     "data": {
      "text/plain": [
       "Index(['Colorless', 'Near Colorless', 'Faint Yellow', 'Light Yellow',\n",
       "       'Yellow'],\n",
       "      dtype='object', name='Color')"
      ]
     },
     "execution_count": 111,
     "metadata": {},
     "output_type": "execute_result"
    }
   ],
   "source": [
    "df['Color'].value_counts().index"
   ]
  },
  {
   "cell_type": "code",
   "execution_count": 112,
   "metadata": {},
   "outputs": [
    {
     "data": {
      "text/plain": [
       "Color\n",
       "0.0    326033\n",
       "1.0    325799\n",
       "2.0    188039\n",
       "3.0    124775\n",
       "4.0     82948\n",
       "Name: count, dtype: int64"
      ]
     },
     "execution_count": 112,
     "metadata": {},
     "output_type": "execute_result"
    }
   ],
   "source": [
    "df['Color'].replace({'Colorless' : 0,\n",
    "                     'Near Colorless' : 1,\n",
    "                     'Faint Yellow' : 2,\n",
    "                     'Light Yellow' : 3,\n",
    "                     'Yellow' : 4}, inplace = True)\n",
    "\n",
    "df['Color'].value_counts()"
   ]
  },
  {
   "cell_type": "code",
   "execution_count": 113,
   "metadata": {},
   "outputs": [
    {
     "data": {
      "application/vnd.plotly.v1+json": {
       "config": {
        "plotlyServerURL": "https://plot.ly"
       },
       "data": [
        {
         "domain": {
          "x": [
           0,
           1
          ],
          "y": [
           0,
           1
          ]
         },
         "hole": 0.5,
         "hovertemplate": "label=%{label}<br>value=%{value}<extra></extra>",
         "labels": [
          "Colorless",
          "Near Colorless",
          "Faint Yellow",
          "Light Yellow",
          "Yellow"
         ],
         "legendgroup": "",
         "marker": {
          "line": {
           "color": "black",
           "width": 2
          }
         },
         "name": "",
         "opacity": 0.9,
         "showlegend": true,
         "type": "pie",
         "values": [
          326033,
          325799,
          188039,
          124775,
          82948
         ]
        }
       ],
       "layout": {
        "height": 600,
        "legend": {
         "tracegroupgap": 0
        },
        "piecolorway": [
         "rgb(102, 197, 204)",
         "rgb(246, 207, 113)",
         "rgb(248, 156, 116)",
         "rgb(220, 176, 242)",
         "rgb(135, 197, 95)",
         "rgb(158, 185, 243)",
         "rgb(254, 136, 177)",
         "rgb(201, 219, 116)",
         "rgb(139, 224, 164)",
         "rgb(180, 151, 231)",
         "rgb(179, 179, 179)"
        ],
        "template": {
         "data": {
          "bar": [
           {
            "error_x": {
             "color": "#2a3f5f"
            },
            "error_y": {
             "color": "#2a3f5f"
            },
            "marker": {
             "line": {
              "color": "#E5ECF6",
              "width": 0.5
             },
             "pattern": {
              "fillmode": "overlay",
              "size": 10,
              "solidity": 0.2
             }
            },
            "type": "bar"
           }
          ],
          "barpolar": [
           {
            "marker": {
             "line": {
              "color": "#E5ECF6",
              "width": 0.5
             },
             "pattern": {
              "fillmode": "overlay",
              "size": 10,
              "solidity": 0.2
             }
            },
            "type": "barpolar"
           }
          ],
          "carpet": [
           {
            "aaxis": {
             "endlinecolor": "#2a3f5f",
             "gridcolor": "white",
             "linecolor": "white",
             "minorgridcolor": "white",
             "startlinecolor": "#2a3f5f"
            },
            "baxis": {
             "endlinecolor": "#2a3f5f",
             "gridcolor": "white",
             "linecolor": "white",
             "minorgridcolor": "white",
             "startlinecolor": "#2a3f5f"
            },
            "type": "carpet"
           }
          ],
          "choropleth": [
           {
            "colorbar": {
             "outlinewidth": 0,
             "ticks": ""
            },
            "type": "choropleth"
           }
          ],
          "contour": [
           {
            "colorbar": {
             "outlinewidth": 0,
             "ticks": ""
            },
            "colorscale": [
             [
              0,
              "#0d0887"
             ],
             [
              0.1111111111111111,
              "#46039f"
             ],
             [
              0.2222222222222222,
              "#7201a8"
             ],
             [
              0.3333333333333333,
              "#9c179e"
             ],
             [
              0.4444444444444444,
              "#bd3786"
             ],
             [
              0.5555555555555556,
              "#d8576b"
             ],
             [
              0.6666666666666666,
              "#ed7953"
             ],
             [
              0.7777777777777778,
              "#fb9f3a"
             ],
             [
              0.8888888888888888,
              "#fdca26"
             ],
             [
              1,
              "#f0f921"
             ]
            ],
            "type": "contour"
           }
          ],
          "contourcarpet": [
           {
            "colorbar": {
             "outlinewidth": 0,
             "ticks": ""
            },
            "type": "contourcarpet"
           }
          ],
          "heatmap": [
           {
            "colorbar": {
             "outlinewidth": 0,
             "ticks": ""
            },
            "colorscale": [
             [
              0,
              "#0d0887"
             ],
             [
              0.1111111111111111,
              "#46039f"
             ],
             [
              0.2222222222222222,
              "#7201a8"
             ],
             [
              0.3333333333333333,
              "#9c179e"
             ],
             [
              0.4444444444444444,
              "#bd3786"
             ],
             [
              0.5555555555555556,
              "#d8576b"
             ],
             [
              0.6666666666666666,
              "#ed7953"
             ],
             [
              0.7777777777777778,
              "#fb9f3a"
             ],
             [
              0.8888888888888888,
              "#fdca26"
             ],
             [
              1,
              "#f0f921"
             ]
            ],
            "type": "heatmap"
           }
          ],
          "heatmapgl": [
           {
            "colorbar": {
             "outlinewidth": 0,
             "ticks": ""
            },
            "colorscale": [
             [
              0,
              "#0d0887"
             ],
             [
              0.1111111111111111,
              "#46039f"
             ],
             [
              0.2222222222222222,
              "#7201a8"
             ],
             [
              0.3333333333333333,
              "#9c179e"
             ],
             [
              0.4444444444444444,
              "#bd3786"
             ],
             [
              0.5555555555555556,
              "#d8576b"
             ],
             [
              0.6666666666666666,
              "#ed7953"
             ],
             [
              0.7777777777777778,
              "#fb9f3a"
             ],
             [
              0.8888888888888888,
              "#fdca26"
             ],
             [
              1,
              "#f0f921"
             ]
            ],
            "type": "heatmapgl"
           }
          ],
          "histogram": [
           {
            "marker": {
             "pattern": {
              "fillmode": "overlay",
              "size": 10,
              "solidity": 0.2
             }
            },
            "type": "histogram"
           }
          ],
          "histogram2d": [
           {
            "colorbar": {
             "outlinewidth": 0,
             "ticks": ""
            },
            "colorscale": [
             [
              0,
              "#0d0887"
             ],
             [
              0.1111111111111111,
              "#46039f"
             ],
             [
              0.2222222222222222,
              "#7201a8"
             ],
             [
              0.3333333333333333,
              "#9c179e"
             ],
             [
              0.4444444444444444,
              "#bd3786"
             ],
             [
              0.5555555555555556,
              "#d8576b"
             ],
             [
              0.6666666666666666,
              "#ed7953"
             ],
             [
              0.7777777777777778,
              "#fb9f3a"
             ],
             [
              0.8888888888888888,
              "#fdca26"
             ],
             [
              1,
              "#f0f921"
             ]
            ],
            "type": "histogram2d"
           }
          ],
          "histogram2dcontour": [
           {
            "colorbar": {
             "outlinewidth": 0,
             "ticks": ""
            },
            "colorscale": [
             [
              0,
              "#0d0887"
             ],
             [
              0.1111111111111111,
              "#46039f"
             ],
             [
              0.2222222222222222,
              "#7201a8"
             ],
             [
              0.3333333333333333,
              "#9c179e"
             ],
             [
              0.4444444444444444,
              "#bd3786"
             ],
             [
              0.5555555555555556,
              "#d8576b"
             ],
             [
              0.6666666666666666,
              "#ed7953"
             ],
             [
              0.7777777777777778,
              "#fb9f3a"
             ],
             [
              0.8888888888888888,
              "#fdca26"
             ],
             [
              1,
              "#f0f921"
             ]
            ],
            "type": "histogram2dcontour"
           }
          ],
          "mesh3d": [
           {
            "colorbar": {
             "outlinewidth": 0,
             "ticks": ""
            },
            "type": "mesh3d"
           }
          ],
          "parcoords": [
           {
            "line": {
             "colorbar": {
              "outlinewidth": 0,
              "ticks": ""
             }
            },
            "type": "parcoords"
           }
          ],
          "pie": [
           {
            "automargin": true,
            "type": "pie"
           }
          ],
          "scatter": [
           {
            "fillpattern": {
             "fillmode": "overlay",
             "size": 10,
             "solidity": 0.2
            },
            "type": "scatter"
           }
          ],
          "scatter3d": [
           {
            "line": {
             "colorbar": {
              "outlinewidth": 0,
              "ticks": ""
             }
            },
            "marker": {
             "colorbar": {
              "outlinewidth": 0,
              "ticks": ""
             }
            },
            "type": "scatter3d"
           }
          ],
          "scattercarpet": [
           {
            "marker": {
             "colorbar": {
              "outlinewidth": 0,
              "ticks": ""
             }
            },
            "type": "scattercarpet"
           }
          ],
          "scattergeo": [
           {
            "marker": {
             "colorbar": {
              "outlinewidth": 0,
              "ticks": ""
             }
            },
            "type": "scattergeo"
           }
          ],
          "scattergl": [
           {
            "marker": {
             "colorbar": {
              "outlinewidth": 0,
              "ticks": ""
             }
            },
            "type": "scattergl"
           }
          ],
          "scattermapbox": [
           {
            "marker": {
             "colorbar": {
              "outlinewidth": 0,
              "ticks": ""
             }
            },
            "type": "scattermapbox"
           }
          ],
          "scatterpolar": [
           {
            "marker": {
             "colorbar": {
              "outlinewidth": 0,
              "ticks": ""
             }
            },
            "type": "scatterpolar"
           }
          ],
          "scatterpolargl": [
           {
            "marker": {
             "colorbar": {
              "outlinewidth": 0,
              "ticks": ""
             }
            },
            "type": "scatterpolargl"
           }
          ],
          "scatterternary": [
           {
            "marker": {
             "colorbar": {
              "outlinewidth": 0,
              "ticks": ""
             }
            },
            "type": "scatterternary"
           }
          ],
          "surface": [
           {
            "colorbar": {
             "outlinewidth": 0,
             "ticks": ""
            },
            "colorscale": [
             [
              0,
              "#0d0887"
             ],
             [
              0.1111111111111111,
              "#46039f"
             ],
             [
              0.2222222222222222,
              "#7201a8"
             ],
             [
              0.3333333333333333,
              "#9c179e"
             ],
             [
              0.4444444444444444,
              "#bd3786"
             ],
             [
              0.5555555555555556,
              "#d8576b"
             ],
             [
              0.6666666666666666,
              "#ed7953"
             ],
             [
              0.7777777777777778,
              "#fb9f3a"
             ],
             [
              0.8888888888888888,
              "#fdca26"
             ],
             [
              1,
              "#f0f921"
             ]
            ],
            "type": "surface"
           }
          ],
          "table": [
           {
            "cells": {
             "fill": {
              "color": "#EBF0F8"
             },
             "line": {
              "color": "white"
             }
            },
            "header": {
             "fill": {
              "color": "#C8D4E3"
             },
             "line": {
              "color": "white"
             }
            },
            "type": "table"
           }
          ]
         },
         "layout": {
          "annotationdefaults": {
           "arrowcolor": "#2a3f5f",
           "arrowhead": 0,
           "arrowwidth": 1
          },
          "autotypenumbers": "strict",
          "coloraxis": {
           "colorbar": {
            "outlinewidth": 0,
            "ticks": ""
           }
          },
          "colorscale": {
           "diverging": [
            [
             0,
             "#8e0152"
            ],
            [
             0.1,
             "#c51b7d"
            ],
            [
             0.2,
             "#de77ae"
            ],
            [
             0.3,
             "#f1b6da"
            ],
            [
             0.4,
             "#fde0ef"
            ],
            [
             0.5,
             "#f7f7f7"
            ],
            [
             0.6,
             "#e6f5d0"
            ],
            [
             0.7,
             "#b8e186"
            ],
            [
             0.8,
             "#7fbc41"
            ],
            [
             0.9,
             "#4d9221"
            ],
            [
             1,
             "#276419"
            ]
           ],
           "sequential": [
            [
             0,
             "#0d0887"
            ],
            [
             0.1111111111111111,
             "#46039f"
            ],
            [
             0.2222222222222222,
             "#7201a8"
            ],
            [
             0.3333333333333333,
             "#9c179e"
            ],
            [
             0.4444444444444444,
             "#bd3786"
            ],
            [
             0.5555555555555556,
             "#d8576b"
            ],
            [
             0.6666666666666666,
             "#ed7953"
            ],
            [
             0.7777777777777778,
             "#fb9f3a"
            ],
            [
             0.8888888888888888,
             "#fdca26"
            ],
            [
             1,
             "#f0f921"
            ]
           ],
           "sequentialminus": [
            [
             0,
             "#0d0887"
            ],
            [
             0.1111111111111111,
             "#46039f"
            ],
            [
             0.2222222222222222,
             "#7201a8"
            ],
            [
             0.3333333333333333,
             "#9c179e"
            ],
            [
             0.4444444444444444,
             "#bd3786"
            ],
            [
             0.5555555555555556,
             "#d8576b"
            ],
            [
             0.6666666666666666,
             "#ed7953"
            ],
            [
             0.7777777777777778,
             "#fb9f3a"
            ],
            [
             0.8888888888888888,
             "#fdca26"
            ],
            [
             1,
             "#f0f921"
            ]
           ]
          },
          "colorway": [
           "#636efa",
           "#EF553B",
           "#00cc96",
           "#ab63fa",
           "#FFA15A",
           "#19d3f3",
           "#FF6692",
           "#B6E880",
           "#FF97FF",
           "#FECB52"
          ],
          "font": {
           "color": "#2a3f5f"
          },
          "geo": {
           "bgcolor": "white",
           "lakecolor": "white",
           "landcolor": "#E5ECF6",
           "showlakes": true,
           "showland": true,
           "subunitcolor": "white"
          },
          "hoverlabel": {
           "align": "left"
          },
          "hovermode": "closest",
          "mapbox": {
           "style": "light"
          },
          "paper_bgcolor": "white",
          "plot_bgcolor": "#E5ECF6",
          "polar": {
           "angularaxis": {
            "gridcolor": "white",
            "linecolor": "white",
            "ticks": ""
           },
           "bgcolor": "#E5ECF6",
           "radialaxis": {
            "gridcolor": "white",
            "linecolor": "white",
            "ticks": ""
           }
          },
          "scene": {
           "xaxis": {
            "backgroundcolor": "#E5ECF6",
            "gridcolor": "white",
            "gridwidth": 2,
            "linecolor": "white",
            "showbackground": true,
            "ticks": "",
            "zerolinecolor": "white"
           },
           "yaxis": {
            "backgroundcolor": "#E5ECF6",
            "gridcolor": "white",
            "gridwidth": 2,
            "linecolor": "white",
            "showbackground": true,
            "ticks": "",
            "zerolinecolor": "white"
           },
           "zaxis": {
            "backgroundcolor": "#E5ECF6",
            "gridcolor": "white",
            "gridwidth": 2,
            "linecolor": "white",
            "showbackground": true,
            "ticks": "",
            "zerolinecolor": "white"
           }
          },
          "shapedefaults": {
           "line": {
            "color": "#2a3f5f"
           }
          },
          "ternary": {
           "aaxis": {
            "gridcolor": "white",
            "linecolor": "white",
            "ticks": ""
           },
           "baxis": {
            "gridcolor": "white",
            "linecolor": "white",
            "ticks": ""
           },
           "bgcolor": "#E5ECF6",
           "caxis": {
            "gridcolor": "white",
            "linecolor": "white",
            "ticks": ""
           }
          },
          "title": {
           "x": 0.05
          },
          "xaxis": {
           "automargin": true,
           "gridcolor": "white",
           "linecolor": "white",
           "ticks": "",
           "title": {
            "standoff": 15
           },
           "zerolinecolor": "white",
           "zerolinewidth": 2
          },
          "yaxis": {
           "automargin": true,
           "gridcolor": "white",
           "linecolor": "white",
           "ticks": "",
           "title": {
            "standoff": 15
           },
           "zerolinecolor": "white",
           "zerolinewidth": 2
          }
         }
        },
        "title": {
         "text": "Pie chart of the \"Color\" attribute"
        },
        "width": 700
       }
      }
     },
     "metadata": {},
     "output_type": "display_data"
    }
   ],
   "source": [
    "color_data = df['Color'].value_counts()\n",
    "color_labels = ['Colorless', 'Near Colorless', 'Faint Yellow', 'Light Yellow', 'Yellow']\n",
    "fig = px.pie(values = color_data, \n",
    "             names = color_labels, \n",
    "             color_discrete_sequence = px.colors.qualitative.Pastel, \n",
    "             title = 'Pie chart of the \"Color\" attribute', \n",
    "             hole = 0.5,\n",
    "             opacity = 0.9,\n",
    "             width = 700, height = 600)\n",
    "fig.update_traces(marker = dict(line = dict(color = 'black', width = 2)))\n",
    "fig.show()"
   ]
  },
  {
   "cell_type": "code",
   "execution_count": 114,
   "metadata": {},
   "outputs": [],
   "source": [
    "df_raw = df.copy()"
   ]
  },
  {
   "cell_type": "markdown",
   "metadata": {},
   "source": [
    "fig_1, axes = plt.subplots(3, 3, figsize=(15, 9))\n",
    "palette1 = ['#4eba81', '#e5b663']\n",
    "plt.suptitle('Boxplots of the variables of the dataframe.')\n",
    "fig_1.tight_layout()\n",
    "fig_1.subplots_adjust(top = 0.96)\n",
    "sns.boxplot(x = df['Potability'], y = df['pH'], data = df, ax = axes[0][0], palette = palette1, hue = df['Potability'], legend = False)\n",
    "sns.boxplot(x = df['Potability'], y = df['Iron'], data = df, ax = axes[0][1], palette = palette1, hue = df['Potability'], legend = False)\n",
    "sns.boxplot(x = df['Potability'], y = df['Nitrate'], data = df, ax = axes[0][2], palette = palette1, hue = df['Potability'], legend = False)\n",
    "sns.boxplot(x = df['Potability'], y = df['Chloride'], data = df, ax = axes[1][0], palette = palette1, hue = df['Potability'], legend = False)\n",
    "sns.boxplot(x = df['Potability'], y = df['Lead'], data = df, ax = axes[1][1], palette = palette1, hue = df['Potability'], legend = False)\n",
    "sns.boxplot(x = df['Potability'], y = df['Zinc'], data = df, ax = axes[1][2], palette = palette1, hue = df['Potability'], legend = False)\n",
    "sns.boxplot(x = df['Potability'], y = df['Color'], data = df, ax = axes[2][0], palette = palette1, hue = df['Potability'], legend = False)\n",
    "sns.boxplot(x = df['Potability'], y = df['Turbidity'], data = df, ax = axes[2][1], palette = palette1, hue = df['Potability'], legend = False)\n",
    "sns.boxplot(x = df['Potability'], y = df['Fluoride'], data = df, ax = axes[2][2], palette = palette1, hue = df['Potability'], legend = False)\n",
    "\n",
    "plt.show()"
   ]
  },
  {
   "cell_type": "markdown",
   "metadata": {},
   "source": [
    "fig_1, axes = plt.subplots(3, 3, figsize=(15, 9))\n",
    "palette1 = ['#4eba81', '#e5b663']\n",
    "plt.suptitle('Boxplots of the variables of the dataframe.')\n",
    "fig_1.tight_layout()\n",
    "fig_1.subplots_adjust(top = 0.96)\n",
    "sns.boxplot(x = df['Potability'], y = df['Copper'], data = df, ax = axes[0][0], palette = palette1, hue = df['Potability'], legend = False)\n",
    "sns.boxplot(x = df['Potability'], y = df['Odor'], data = df, ax = axes[0][1], palette = palette1, hue = df['Potability'], legend = False)\n",
    "sns.boxplot(x = df['Potability'], y = df['Sulfate'], data = df, ax = axes[0][2], palette = palette1, hue = df['Potability'], legend = False)\n",
    "sns.boxplot(x = df['Potability'], y = df['Conductivity'], data = df, ax = axes[1][0], palette = palette1, hue = df['Potability'], legend = False)\n",
    "sns.boxplot(x = df['Potability'], y = df['Chlorine'], data = df, ax = axes[1][1], palette = palette1, hue = df['Potability'], legend = False)\n",
    "sns.boxplot(x = df['Potability'], y = df['Manganese'], data = df, ax = axes[1][2], palette = palette1, hue = df['Potability'], legend = False)\n",
    "sns.boxplot(x = df['Potability'], y = df['Total_Diss_Solids'], data = df, ax = axes[2][0], palette = palette1, hue = df['Potability'], legend = False)\n",
    "axes[2][1].remove()\n",
    "axes[2][2].remove()\n",
    "plt.show()"
   ]
  },
  {
   "cell_type": "markdown",
   "metadata": {},
   "source": [
    "df_corr = df.corr()\n",
    "plt.figure(figsize = (12, 6))\n",
    "sns.heatmap(df_corr, annot = True, cmap = 'BrBG', fmt = '.2f')\n",
    "plt.show()"
   ]
  },
  {
   "cell_type": "code",
   "execution_count": 115,
   "metadata": {},
   "outputs": [
    {
     "data": {
      "text/plain": [
       "311344"
      ]
     },
     "execution_count": 115,
     "metadata": {},
     "output_type": "execute_result"
    }
   ],
   "source": [
    "df.isnull().sum().sum()"
   ]
  },
  {
   "cell_type": "markdown",
   "metadata": {},
   "source": [
    "We can see that inside the dataframe, there are quite a lot of null values. The next portion of the project is concentrated around filling these na's with the most appropriate value, taking in consideration the distributions of the various variables inside the dataframe."
   ]
  },
  {
   "cell_type": "markdown",
   "metadata": {},
   "source": [
    "fig_1, axes = plt.subplots(3, 3, figsize=(15, 9))\n",
    "plt.suptitle('Distributions of the variables for the potability of water')\n",
    "fig_1.subplots_adjust(top = 0.96)\n",
    "\n",
    "sns.histplot(data = df['pH'], bins = 50, color = '#eaa92e', stat = 'density', ax = axes[0][0])\n",
    "sns.kdeplot(data = df['pH'], color = 'black', ax = axes[0][0], linewidth = 1)\n",
    "sns.histplot(data = df['Iron'], bins = 50, color = '#eaa92e', stat = 'density', ax = axes[0][1])\n",
    "sns.kdeplot(data = df['Iron'], color = 'black', ax = axes[0][1], linewidth = 1)\n",
    "sns.histplot(data = df['Nitrate'], bins = 50, color = '#eaa92e', stat = 'density', ax = axes[0][2])\n",
    "sns.kdeplot(data = df['Nitrate'], color = 'black', ax = axes[0][2], linewidth = 1)\n",
    "sns.histplot(data = df['Chloride'], bins = 50, color = '#eaa92e', stat = 'density', ax = axes[1][0])\n",
    "sns.kdeplot(data = df['Chloride'], color = 'black', ax = axes[1][0], linewidth = 1)\n",
    "sns.histplot(data = df['Lead'], bins = 50, color = '#eaa92e', stat = 'density', ax = axes[1][1])\n",
    "sns.kdeplot(data = df['Lead'], color = 'black', ax = axes[1][1], linewidth = 1)\n",
    "sns.histplot(data = df['Zinc'], bins = 50, color = '#eaa92e', stat = 'density', ax = axes[1][2])\n",
    "sns.kdeplot(data = df['Zinc'], color = 'black', ax = axes[1][2], linewidth = 1)\n",
    "sns.barplot(x = df['Color'].value_counts().index, y = df['Color'].value_counts(), hue = df['Color'].value_counts().index, legend = False, palette = 'magma', ax = axes[2][0])\n",
    "sns.histplot(data = df['Turbidity'], bins = 50, color = '#eaa92e', stat = 'density', ax = axes[2][1])\n",
    "sns.kdeplot(data = df['Turbidity'], color = 'black', ax = axes[2][1], linewidth = 1)\n",
    "sns.histplot(data = df['Fluoride'], bins = 50, color = '#eaa92e', stat = 'density', ax = axes[2][2])\n",
    "sns.kdeplot(data = df['Fluoride'], color = 'black', ax = axes[2][2], linewidth = 1)\n",
    "\n",
    "plt.show()"
   ]
  },
  {
   "cell_type": "markdown",
   "metadata": {},
   "source": [
    "fig_1, axes = plt.subplots(3, 3, figsize=(15, 9))\n",
    "plt.suptitle('Distributions of the variables for the potability of water')\n",
    "fig_1.subplots_adjust(top = 0.96)\n",
    "\n",
    "sns.histplot(data = df['Copper'], bins = 50, color = '#eaa92e', stat = 'density', ax = axes[0][0])\n",
    "sns.kdeplot(data = df['Copper'], color = 'black', ax = axes[0][0], linewidth = 1)\n",
    "sns.histplot(data = df['Odor'], bins = 50, color = '#eaa92e', stat = 'density', ax = axes[0][1])\n",
    "sns.kdeplot(data = df['Odor'], color = 'black', ax = axes[0][1], linewidth = 1)\n",
    "sns.histplot(data = df['Sulfate'], bins = 50, color = '#eaa92e', stat = 'density', ax = axes[0][2])\n",
    "sns.kdeplot(data = df['Sulfate'], color = 'black', ax = axes[0][2], linewidth = 1)\n",
    "sns.histplot(data = df['Conductivity'], bins = 50, color = '#eaa92e', stat = 'density', ax = axes[1][0])\n",
    "sns.kdeplot(data = df['Conductivity'], color = 'black', ax = axes[1][0], linewidth = 1)\n",
    "sns.histplot(data = df['Chlorine'], bins = 50, color = '#eaa92e', stat = 'density', ax = axes[1][1])\n",
    "sns.kdeplot(data = df['Chlorine'], color = 'black', ax = axes[1][1], linewidth = 1)\n",
    "sns.histplot(data = df['Manganese'], bins = 50, color = '#eaa92e', stat = 'density', ax = axes[1][2])\n",
    "sns.kdeplot(data = df['Manganese'], color = 'black', ax = axes[1][2], linewidth = 1)\n",
    "sns.histplot(data = df['Total_Diss_Solids'], bins = 50, color = '#eaa92e', stat = 'density', ax = axes[2][0])\n",
    "sns.kdeplot(data = df['Total_Diss_Solids'], color = 'black', ax = axes[2][0], linewidth = 1)\n",
    "axes[2][1].remove()\n",
    "axes[2][2].remove()\n",
    "\n",
    "plt.show()\n"
   ]
  },
  {
   "cell_type": "markdown",
   "metadata": {},
   "source": [
    "## pH"
   ]
  },
  {
   "cell_type": "code",
   "execution_count": 116,
   "metadata": {},
   "outputs": [
    {
     "data": {
      "text/plain": [
       "20231"
      ]
     },
     "execution_count": 116,
     "metadata": {},
     "output_type": "execute_result"
    }
   ],
   "source": [
    "df['pH'].isnull().sum()"
   ]
  },
  {
   "cell_type": "code",
   "execution_count": 117,
   "metadata": {},
   "outputs": [],
   "source": [
    "fn.na_to_norm_distr(df, 'pH')"
   ]
  },
  {
   "cell_type": "code",
   "execution_count": 118,
   "metadata": {},
   "outputs": [
    {
     "data": {
      "text/plain": [
       "0"
      ]
     },
     "execution_count": 118,
     "metadata": {},
     "output_type": "execute_result"
    }
   ],
   "source": [
    "df['pH'].isnull().sum()"
   ]
  },
  {
   "cell_type": "markdown",
   "metadata": {},
   "source": [
    "## Iron"
   ]
  },
  {
   "cell_type": "code",
   "execution_count": 119,
   "metadata": {},
   "outputs": [
    {
     "name": "stdout",
     "output_type": "stream",
     "text": [
      "Median for target 0: 0.001550039 \n",
      "Median for target 1: 0.005783678\n"
     ]
    }
   ],
   "source": [
    "fn.median_col_in_target(df, 'Iron')"
   ]
  },
  {
   "cell_type": "code",
   "execution_count": 120,
   "metadata": {},
   "outputs": [
    {
     "data": {
      "text/plain": [
       "count    1.041584e+06\n",
       "mean     1.139646e-01\n",
       "std      4.433188e-01\n",
       "min      2.050000e-53\n",
       "25%      8.950000e-06\n",
       "50%      2.054149e-03\n",
       "75%      4.977795e-02\n",
       "max      1.574860e+01\n",
       "Name: Iron, dtype: float64"
      ]
     },
     "execution_count": 120,
     "metadata": {},
     "output_type": "execute_result"
    }
   ],
   "source": [
    "df['Iron'].describe().T"
   ]
  },
  {
   "cell_type": "code",
   "execution_count": 121,
   "metadata": {},
   "outputs": [],
   "source": [
    "fn.na_to_median_target(df, 'Iron')"
   ]
  },
  {
   "cell_type": "code",
   "execution_count": 122,
   "metadata": {},
   "outputs": [],
   "source": [
    "df = fn.outl_del(df, 'Iron', 0.99)"
   ]
  },
  {
   "cell_type": "code",
   "execution_count": 123,
   "metadata": {},
   "outputs": [
    {
     "data": {
      "text/plain": [
       "0"
      ]
     },
     "execution_count": 123,
     "metadata": {},
     "output_type": "execute_result"
    }
   ],
   "source": [
    "df['Iron'].isnull().sum()"
   ]
  },
  {
   "cell_type": "markdown",
   "metadata": {},
   "source": [
    "## Nitrate"
   ]
  },
  {
   "cell_type": "code",
   "execution_count": 124,
   "metadata": {},
   "outputs": [
    {
     "data": {
      "text/plain": [
       "18526"
      ]
     },
     "execution_count": 124,
     "metadata": {},
     "output_type": "execute_result"
    }
   ],
   "source": [
    "df['Nitrate'].isnull().sum()"
   ]
  },
  {
   "cell_type": "code",
   "execution_count": 125,
   "metadata": {},
   "outputs": [
    {
     "name": "stdout",
     "output_type": "stream",
     "text": [
      "Median for target 0: 5.4430506915 \n",
      "Median for target 1: 6.072977804\n"
     ]
    }
   ],
   "source": [
    "fn.median_col_in_target(df, 'Nitrate')"
   ]
  },
  {
   "cell_type": "code",
   "execution_count": 126,
   "metadata": {},
   "outputs": [
    {
     "data": {
      "text/plain": [
       "count    1.019563e+06\n",
       "mean     6.069781e+00\n",
       "std      3.118996e+00\n",
       "min      2.861727e-01\n",
       "25%      3.951355e+00\n",
       "50%      5.561258e+00\n",
       "75%      7.577015e+00\n",
       "max      7.307293e+01\n",
       "Name: Nitrate, dtype: float64"
      ]
     },
     "execution_count": 126,
     "metadata": {},
     "output_type": "execute_result"
    }
   ],
   "source": [
    "df['Nitrate'].describe().T"
   ]
  },
  {
   "cell_type": "code",
   "execution_count": 127,
   "metadata": {},
   "outputs": [],
   "source": [
    "fn.na_to_median_target(df, 'Nitrate')\n",
    "df = fn.outl_del(df, 'Nitrate', 0.99)"
   ]
  },
  {
   "cell_type": "code",
   "execution_count": 128,
   "metadata": {},
   "outputs": [
    {
     "data": {
      "text/plain": [
       "0"
      ]
     },
     "execution_count": 128,
     "metadata": {},
     "output_type": "execute_result"
    }
   ],
   "source": [
    "df['Nitrate'].isnull().sum()"
   ]
  },
  {
   "cell_type": "markdown",
   "metadata": {},
   "source": [
    "## Chloride"
   ]
  },
  {
   "cell_type": "code",
   "execution_count": 129,
   "metadata": {},
   "outputs": [
    {
     "data": {
      "text/plain": [
       "30251"
      ]
     },
     "execution_count": 129,
     "metadata": {},
     "output_type": "execute_result"
    }
   ],
   "source": [
    "df['Chloride'].isnull().sum()"
   ]
  },
  {
   "cell_type": "code",
   "execution_count": 130,
   "metadata": {},
   "outputs": [],
   "source": [
    "fn.na_to_norm_distr(df, 'Chloride')\n",
    "df = fn.outl_del(df, 'Chloride', 0.99)"
   ]
  },
  {
   "cell_type": "code",
   "execution_count": 131,
   "metadata": {},
   "outputs": [
    {
     "data": {
      "text/plain": [
       "0"
      ]
     },
     "execution_count": 131,
     "metadata": {},
     "output_type": "execute_result"
    }
   ],
   "source": [
    "df['Chloride'].isnull().sum()"
   ]
  },
  {
   "cell_type": "markdown",
   "metadata": {},
   "source": [
    "## Lead"
   ]
  },
  {
   "cell_type": "code",
   "execution_count": 132,
   "metadata": {},
   "outputs": [
    {
     "data": {
      "text/plain": [
       "4540"
      ]
     },
     "execution_count": 132,
     "metadata": {},
     "output_type": "execute_result"
    }
   ],
   "source": [
    "df['Lead'].isnull().sum()"
   ]
  },
  {
   "cell_type": "code",
   "execution_count": 133,
   "metadata": {},
   "outputs": [
    {
     "name": "stdout",
     "output_type": "stream",
     "text": [
      "Median for target 0: 6.375e-63 \n",
      "Median for target 1: 2.29e-61\n"
     ]
    }
   ],
   "source": [
    "fn.median_col_in_target(df, 'Lead')"
   ]
  },
  {
   "cell_type": "code",
   "execution_count": 134,
   "metadata": {},
   "outputs": [
    {
     "data": {
      "text/plain": [
       "count     1.012263e+06\n",
       "mean      1.239564e-03\n",
       "std       2.992154e-02\n",
       "min       0.000000e+00\n",
       "25%      7.690000e-123\n",
       "50%       1.420000e-62\n",
       "75%       2.600000e-27\n",
       "max       3.503948e+00\n",
       "Name: Lead, dtype: float64"
      ]
     },
     "execution_count": 134,
     "metadata": {},
     "output_type": "execute_result"
    }
   ],
   "source": [
    "df['Lead'].describe().T"
   ]
  },
  {
   "cell_type": "code",
   "execution_count": 135,
   "metadata": {},
   "outputs": [],
   "source": [
    "fn.na_to_median_target(df, 'Lead')\n",
    "df = fn.outl_del(df, 'Lead', 0.99)"
   ]
  },
  {
   "cell_type": "code",
   "execution_count": 136,
   "metadata": {},
   "outputs": [
    {
     "data": {
      "text/plain": [
       "0"
      ]
     },
     "execution_count": 136,
     "metadata": {},
     "output_type": "execute_result"
    }
   ],
   "source": [
    "df['Lead'].isnull().sum()"
   ]
  },
  {
   "cell_type": "markdown",
   "metadata": {},
   "source": [
    "## Zinc"
   ]
  },
  {
   "cell_type": "code",
   "execution_count": 137,
   "metadata": {},
   "outputs": [
    {
     "data": {
      "text/plain": [
       "26498"
      ]
     },
     "execution_count": 137,
     "metadata": {},
     "output_type": "execute_result"
    }
   ],
   "source": [
    "df['Zinc'].isnull().sum()"
   ]
  },
  {
   "cell_type": "code",
   "execution_count": 138,
   "metadata": {},
   "outputs": [
    {
     "name": "stdout",
     "output_type": "stream",
     "text": [
      "Median for target 0: 1.054158274 \n",
      "Median for target 1: 1.144905548\n"
     ]
    }
   ],
   "source": [
    "fn.median_col_in_target(df, 'Zinc')"
   ]
  },
  {
   "cell_type": "code",
   "execution_count": 139,
   "metadata": {},
   "outputs": [
    {
     "data": {
      "text/plain": [
       "count    9.801360e+05\n",
       "mean     1.520816e+00\n",
       "std      1.490073e+00\n",
       "min      6.350000e-07\n",
       "25%      4.118723e-01\n",
       "50%      1.072482e+00\n",
       "75%      2.207412e+00\n",
       "max      2.836867e+01\n",
       "Name: Zinc, dtype: float64"
      ]
     },
     "execution_count": 139,
     "metadata": {},
     "output_type": "execute_result"
    }
   ],
   "source": [
    "df['Zinc'].describe().T"
   ]
  },
  {
   "cell_type": "code",
   "execution_count": 140,
   "metadata": {},
   "outputs": [],
   "source": [
    "fn.na_to_median(df, 'Zinc')\n",
    "df = fn.outl_del(df, 'Zinc', 0.99)"
   ]
  },
  {
   "cell_type": "code",
   "execution_count": 141,
   "metadata": {},
   "outputs": [
    {
     "data": {
      "text/plain": [
       "0"
      ]
     },
     "execution_count": 141,
     "metadata": {},
     "output_type": "execute_result"
    }
   ],
   "source": [
    "df['Zinc'].isnull().sum()"
   ]
  },
  {
   "cell_type": "markdown",
   "metadata": {},
   "source": [
    "## Color"
   ]
  },
  {
   "cell_type": "code",
   "execution_count": 142,
   "metadata": {},
   "outputs": [
    {
     "data": {
      "text/plain": [
       "918"
      ]
     },
     "execution_count": 142,
     "metadata": {},
     "output_type": "execute_result"
    }
   ],
   "source": [
    "df['Color'].isnull().sum()"
   ]
  },
  {
   "cell_type": "code",
   "execution_count": 143,
   "metadata": {},
   "outputs": [
    {
     "name": "stdout",
     "output_type": "stream",
     "text": [
      "Median for target 0: 1.0 \n",
      "Median for target 1: 2.0\n"
     ]
    }
   ],
   "source": [
    "fn.median_col_in_target(df, 'Color')"
   ]
  },
  {
   "cell_type": "code",
   "execution_count": 144,
   "metadata": {},
   "outputs": [],
   "source": [
    "fn.na_to_median_target(df, 'Color')"
   ]
  },
  {
   "cell_type": "code",
   "execution_count": 145,
   "metadata": {},
   "outputs": [
    {
     "data": {
      "text/plain": [
       "0"
      ]
     },
     "execution_count": 145,
     "metadata": {},
     "output_type": "execute_result"
    }
   ],
   "source": [
    "df['Color'].isnull().sum()"
   ]
  },
  {
   "cell_type": "markdown",
   "metadata": {},
   "source": [
    "## Turbidity"
   ]
  },
  {
   "cell_type": "code",
   "execution_count": 146,
   "metadata": {},
   "outputs": [
    {
     "data": {
      "text/plain": [
       "8285"
      ]
     },
     "execution_count": 146,
     "metadata": {},
     "output_type": "execute_result"
    }
   ],
   "source": [
    "df['Turbidity'].isnull().sum()"
   ]
  },
  {
   "cell_type": "code",
   "execution_count": 147,
   "metadata": {},
   "outputs": [
    {
     "name": "stdout",
     "output_type": "stream",
     "text": [
      "Median for target 0: 0.172963901 \n",
      "Median for target 1: 0.334628143\n"
     ]
    }
   ],
   "source": [
    "fn.median_col_in_target(df, 'Turbidity')"
   ]
  },
  {
   "cell_type": "code",
   "execution_count": 148,
   "metadata": {},
   "outputs": [
    {
     "data": {
      "text/plain": [
       "count    9.882820e+05\n",
       "mean     4.658639e-01\n",
       "std      8.302809e-01\n",
       "min      1.410000e-14\n",
       "25%      3.618236e-02\n",
       "50%      1.955869e-01\n",
       "75%      5.784884e-01\n",
       "max      1.929611e+01\n",
       "Name: Turbidity, dtype: float64"
      ]
     },
     "execution_count": 148,
     "metadata": {},
     "output_type": "execute_result"
    }
   ],
   "source": [
    "df['Turbidity'].describe().T"
   ]
  },
  {
   "cell_type": "code",
   "execution_count": 149,
   "metadata": {},
   "outputs": [],
   "source": [
    "fn.na_to_median_target(df, 'Turbidity')"
   ]
  },
  {
   "cell_type": "code",
   "execution_count": 150,
   "metadata": {},
   "outputs": [],
   "source": [
    "df = fn.outl_del(df, 'Turbidity', 0.99)"
   ]
  },
  {
   "cell_type": "code",
   "execution_count": 151,
   "metadata": {},
   "outputs": [
    {
     "data": {
      "text/plain": [
       "0"
      ]
     },
     "execution_count": 151,
     "metadata": {},
     "output_type": "execute_result"
    }
   ],
   "source": [
    "df['Turbidity'].isnull().sum()"
   ]
  },
  {
   "cell_type": "markdown",
   "metadata": {},
   "source": [
    "## Fluoride"
   ]
  },
  {
   "cell_type": "code",
   "execution_count": 152,
   "metadata": {},
   "outputs": [
    {
     "data": {
      "text/plain": [
       "31286"
      ]
     },
     "execution_count": 152,
     "metadata": {},
     "output_type": "execute_result"
    }
   ],
   "source": [
    "df['Fluoride'].isnull().sum()"
   ]
  },
  {
   "cell_type": "code",
   "execution_count": 153,
   "metadata": {},
   "outputs": [
    {
     "name": "stdout",
     "output_type": "stream",
     "text": [
      "Median for target 0: 0.730742475 \n",
      "Median for target 1: 0.898566003\n"
     ]
    }
   ],
   "source": [
    "fn.median_col_in_target(df, 'Fluoride')"
   ]
  },
  {
   "cell_type": "code",
   "execution_count": 154,
   "metadata": {},
   "outputs": [
    {
     "data": {
      "text/plain": [
       "count    955315.000000\n",
       "mean          0.926781\n",
       "std           0.771977\n",
       "min           0.000005\n",
       "25%           0.368169\n",
       "50%           0.758977\n",
       "75%           1.303995\n",
       "max          12.851710\n",
       "Name: Fluoride, dtype: float64"
      ]
     },
     "execution_count": 154,
     "metadata": {},
     "output_type": "execute_result"
    }
   ],
   "source": [
    "df['Fluoride'].describe().T"
   ]
  },
  {
   "cell_type": "code",
   "execution_count": 155,
   "metadata": {},
   "outputs": [],
   "source": [
    "fn.na_to_median(df, 'Fluoride')\n",
    "df = fn.outl_del(df, 'Fluoride', 0.99)"
   ]
  },
  {
   "cell_type": "code",
   "execution_count": 156,
   "metadata": {},
   "outputs": [
    {
     "data": {
      "text/plain": [
       "0"
      ]
     },
     "execution_count": 156,
     "metadata": {},
     "output_type": "execute_result"
    }
   ],
   "source": [
    "df['Fluoride'].isnull().sum()"
   ]
  },
  {
   "cell_type": "markdown",
   "metadata": {},
   "source": [
    "## Copper"
   ]
  },
  {
   "cell_type": "code",
   "execution_count": 157,
   "metadata": {},
   "outputs": [
    {
     "data": {
      "text/plain": [
       "32441"
      ]
     },
     "execution_count": 157,
     "metadata": {},
     "output_type": "execute_result"
    }
   ],
   "source": [
    "df['Copper'].isnull().sum()"
   ]
  },
  {
   "cell_type": "code",
   "execution_count": 158,
   "metadata": {},
   "outputs": [
    {
     "name": "stdout",
     "output_type": "stream",
     "text": [
      "Median for target 0: 0.311773234 \n",
      "Median for target 1: 0.454544307\n"
     ]
    }
   ],
   "source": [
    "fn.median_col_in_target(df, 'Copper')"
   ]
  },
  {
   "cell_type": "code",
   "execution_count": 159,
   "metadata": {},
   "outputs": [
    {
     "data": {
      "text/plain": [
       "count    9.442930e+05\n",
       "mean     4.776870e-01\n",
       "std      5.404543e-01\n",
       "min      2.100000e-09\n",
       "25%      1.242415e-01\n",
       "50%      3.330306e-01\n",
       "75%      6.642115e-01\n",
       "max      1.139056e+01\n",
       "Name: Copper, dtype: float64"
      ]
     },
     "execution_count": 159,
     "metadata": {},
     "output_type": "execute_result"
    }
   ],
   "source": [
    "df['Copper'].describe()"
   ]
  },
  {
   "cell_type": "code",
   "execution_count": 160,
   "metadata": {},
   "outputs": [],
   "source": [
    "fn.na_to_median(df, 'Copper')\n",
    "df = fn.outl_del(df, 'Copper', 0.99)"
   ]
  },
  {
   "cell_type": "code",
   "execution_count": 161,
   "metadata": {},
   "outputs": [
    {
     "data": {
      "text/plain": [
       "0"
      ]
     },
     "execution_count": 161,
     "metadata": {},
     "output_type": "execute_result"
    }
   ],
   "source": [
    "df['Copper'].isnull().sum()"
   ]
  },
  {
   "cell_type": "markdown",
   "metadata": {},
   "source": [
    "## Odor"
   ]
  },
  {
   "cell_type": "code",
   "execution_count": 162,
   "metadata": {},
   "outputs": [
    {
     "data": {
      "text/plain": [
       "28954"
      ]
     },
     "execution_count": 162,
     "metadata": {},
     "output_type": "execute_result"
    }
   ],
   "source": [
    "df['Odor'].isnull().sum()"
   ]
  },
  {
   "cell_type": "code",
   "execution_count": 163,
   "metadata": {},
   "outputs": [],
   "source": [
    "fn.na_to_unif_distr(df, 'Odor')\n",
    "df = fn.outl_del(df, 'Odor', 0.99)"
   ]
  },
  {
   "cell_type": "code",
   "execution_count": 164,
   "metadata": {},
   "outputs": [
    {
     "data": {
      "text/plain": [
       "0"
      ]
     },
     "execution_count": 164,
     "metadata": {},
     "output_type": "execute_result"
    }
   ],
   "source": [
    "df['Odor'].isnull().sum()"
   ]
  },
  {
   "cell_type": "markdown",
   "metadata": {},
   "source": [
    "## Sulfate"
   ]
  },
  {
   "cell_type": "code",
   "execution_count": 165,
   "metadata": {},
   "outputs": [
    {
     "data": {
      "text/plain": [
       "31497"
      ]
     },
     "execution_count": 165,
     "metadata": {},
     "output_type": "execute_result"
    }
   ],
   "source": [
    "df['Sulfate'].isnull().sum()"
   ]
  },
  {
   "cell_type": "code",
   "execution_count": 166,
   "metadata": {},
   "outputs": [],
   "source": [
    "fn.na_to_norm_distr(df, 'Sulfate')\n",
    "df = fn.outl_del(df, 'Sulfate', 0.99)"
   ]
  },
  {
   "cell_type": "code",
   "execution_count": 167,
   "metadata": {},
   "outputs": [
    {
     "data": {
      "text/plain": [
       "0"
      ]
     },
     "execution_count": 167,
     "metadata": {},
     "output_type": "execute_result"
    }
   ],
   "source": [
    "df['Sulfate'].isnull().sum()"
   ]
  },
  {
   "cell_type": "markdown",
   "metadata": {},
   "source": [
    "## Conductivity"
   ]
  },
  {
   "cell_type": "code",
   "execution_count": 168,
   "metadata": {},
   "outputs": [
    {
     "data": {
      "text/plain": [
       "25937"
      ]
     },
     "execution_count": 168,
     "metadata": {},
     "output_type": "execute_result"
    }
   ],
   "source": [
    "df['Conductivity'].isnull().sum()"
   ]
  },
  {
   "cell_type": "code",
   "execution_count": 169,
   "metadata": {},
   "outputs": [],
   "source": [
    "fn.na_to_norm_distr(df, 'Conductivity')\n",
    "df = fn.outl_del(df, 'Conductivity', 0.99)"
   ]
  },
  {
   "cell_type": "code",
   "execution_count": 170,
   "metadata": {},
   "outputs": [
    {
     "data": {
      "text/plain": [
       "0"
      ]
     },
     "execution_count": 170,
     "metadata": {},
     "output_type": "execute_result"
    }
   ],
   "source": [
    "df['Conductivity'].isnull().sum()"
   ]
  },
  {
   "cell_type": "markdown",
   "metadata": {},
   "source": [
    "## Chlorine"
   ]
  },
  {
   "cell_type": "code",
   "execution_count": 171,
   "metadata": {},
   "outputs": [
    {
     "data": {
      "text/plain": [
       "9017"
      ]
     },
     "execution_count": 171,
     "metadata": {},
     "output_type": "execute_result"
    }
   ],
   "source": [
    "df['Chlorine'].isnull().sum()"
   ]
  },
  {
   "cell_type": "code",
   "execution_count": 172,
   "metadata": {},
   "outputs": [],
   "source": [
    "fn.na_to_norm_distr(df, 'Chlorine')\n",
    "df = fn.outl_del(df, 'Chlorine', 0.99)"
   ]
  },
  {
   "cell_type": "code",
   "execution_count": 173,
   "metadata": {},
   "outputs": [
    {
     "data": {
      "text/plain": [
       "0"
      ]
     },
     "execution_count": 173,
     "metadata": {},
     "output_type": "execute_result"
    }
   ],
   "source": [
    "df['Chlorine'].isnull().sum()"
   ]
  },
  {
   "cell_type": "markdown",
   "metadata": {},
   "source": [
    "## Manganese"
   ]
  },
  {
   "cell_type": "code",
   "execution_count": 174,
   "metadata": {},
   "outputs": [
    {
     "data": {
      "text/plain": [
       "16968"
      ]
     },
     "execution_count": 174,
     "metadata": {},
     "output_type": "execute_result"
    }
   ],
   "source": [
    "df['Manganese'].isnull().sum()"
   ]
  },
  {
   "cell_type": "code",
   "execution_count": 175,
   "metadata": {},
   "outputs": [
    {
     "name": "stdout",
     "output_type": "stream",
     "text": [
      "Median for target 0: 0.0002717625 \n",
      "Median for target 1: 0.005309497\n"
     ]
    }
   ],
   "source": [
    "fn.median_col_in_target(df, 'Manganese')"
   ]
  },
  {
   "cell_type": "code",
   "execution_count": 176,
   "metadata": {},
   "outputs": [
    {
     "data": {
      "text/plain": [
       "count    9.033950e+05\n",
       "mean     7.631281e-02\n",
       "std      3.951144e-01\n",
       "min      1.380000e-46\n",
       "25%      1.690000e-06\n",
       "50%      4.348940e-04\n",
       "75%      1.110603e-02\n",
       "max      2.374086e+01\n",
       "Name: Manganese, dtype: float64"
      ]
     },
     "execution_count": 176,
     "metadata": {},
     "output_type": "execute_result"
    }
   ],
   "source": [
    "df['Manganese'].describe()"
   ]
  },
  {
   "cell_type": "code",
   "execution_count": 177,
   "metadata": {},
   "outputs": [],
   "source": [
    "fn.na_to_median_target(df, 'Manganese')\n",
    "df = fn.outl_del(df, 'Manganese', 0.99)"
   ]
  },
  {
   "cell_type": "code",
   "execution_count": 178,
   "metadata": {},
   "outputs": [
    {
     "data": {
      "text/plain": [
       "0"
      ]
     },
     "execution_count": 178,
     "metadata": {},
     "output_type": "execute_result"
    }
   ],
   "source": [
    "df['Manganese'].isnull().sum()"
   ]
  },
  {
   "cell_type": "markdown",
   "metadata": {},
   "source": [
    "## Total_Diss_Solids"
   ]
  },
  {
   "cell_type": "code",
   "execution_count": 179,
   "metadata": {},
   "outputs": [
    {
     "data": {
      "text/plain": [
       "252"
      ]
     },
     "execution_count": 179,
     "metadata": {},
     "output_type": "execute_result"
    }
   ],
   "source": [
    "df['Total_Diss_Solids'].isnull().sum()"
   ]
  },
  {
   "cell_type": "code",
   "execution_count": 180,
   "metadata": {},
   "outputs": [],
   "source": [
    "fn.na_to_unif_distr(df, 'Total_Diss_Solids')\n",
    "df = fn.outl_del(df, 'Total_Diss_Solids', 0.99)"
   ]
  },
  {
   "cell_type": "code",
   "execution_count": 181,
   "metadata": {},
   "outputs": [
    {
     "data": {
      "text/plain": [
       "0"
      ]
     },
     "execution_count": 181,
     "metadata": {},
     "output_type": "execute_result"
    }
   ],
   "source": [
    "df['Total_Diss_Solids'].isnull().sum()"
   ]
  },
  {
   "cell_type": "markdown",
   "metadata": {},
   "source": [
    "Let's check again the frequencies"
   ]
  },
  {
   "cell_type": "markdown",
   "metadata": {},
   "source": [
    "fig_1, axes = plt.subplots(3, 3, figsize=(15, 9))\n",
    "plt.suptitle('Distributions of the variables for the potability of water')\n",
    "fig_1.subplots_adjust(top = 0.96)\n",
    "\n",
    "sns.histplot(data = df['pH'], bins = 50, color = '#eaa92e', stat = 'density', ax = axes[0][0])\n",
    "sns.kdeplot(data = df['pH'], color = 'black', ax = axes[0][0], linewidth = 1)\n",
    "sns.histplot(data = df['Iron'], bins = 50, color = '#eaa92e', stat = 'density', ax = axes[0][1])\n",
    "sns.kdeplot(data = df['Iron'], color = 'black', ax = axes[0][1], linewidth = 1)\n",
    "sns.histplot(data = df['Nitrate'], bins = 50, color = '#eaa92e', stat = 'density', ax = axes[0][2])\n",
    "sns.kdeplot(data = df['Nitrate'], color = 'black', ax = axes[0][2], linewidth = 1)\n",
    "sns.histplot(data = df['Chloride'], bins = 50, color = '#eaa92e', stat = 'density', ax = axes[1][0])\n",
    "sns.kdeplot(data = df['Chloride'], color = 'black', ax = axes[1][0], linewidth = 1)\n",
    "sns.histplot(data = df['Lead'], bins = 50, color = '#eaa92e', stat = 'density', ax = axes[1][1])\n",
    "sns.kdeplot(data = df['Lead'], color = 'black', ax = axes[1][1], linewidth = 1)\n",
    "sns.histplot(data = df['Zinc'], bins = 50, color = '#eaa92e', stat = 'density', ax = axes[1][2])\n",
    "sns.kdeplot(data = df['Zinc'], color = 'black', ax = axes[1][2], linewidth = 1)\n",
    "sns.barplot(x = df['Color'].value_counts().index, y = df['Color'].value_counts(), hue = df['Color'].value_counts().index, legend = False, palette = 'magma', ax = axes[2][0])\n",
    "sns.histplot(data = df['Turbidity'], bins = 50, color = '#eaa92e', stat = 'density', ax = axes[2][1])\n",
    "sns.kdeplot(data = df['Turbidity'], color = 'black', ax = axes[2][1], linewidth = 1)\n",
    "sns.histplot(data = df['Fluoride'], bins = 50, color = '#eaa92e', stat = 'density', ax = axes[2][2])\n",
    "sns.kdeplot(data = df['Fluoride'], color = 'black', ax = axes[2][2], linewidth = 1)\n",
    "\n",
    "plt.show()"
   ]
  },
  {
   "cell_type": "markdown",
   "metadata": {},
   "source": [
    "fig_1, axes = plt.subplots(3, 3, figsize=(15, 9))\n",
    "plt.suptitle('Distributions of the variables for the potability of water')\n",
    "fig_1.subplots_adjust(top = 0.96)\n",
    "\n",
    "sns.histplot(data = df['Copper'], bins = 50, color = '#eaa92e', stat = 'density', ax = axes[0][0])\n",
    "sns.kdeplot(data = df['Copper'], color = 'black', ax = axes[0][0], linewidth = 1)\n",
    "sns.histplot(data = df['Odor'], bins = 50, color = '#eaa92e', stat = 'density', ax = axes[0][1])\n",
    "sns.kdeplot(data = df['Odor'], color = 'black', ax = axes[0][1], linewidth = 1)\n",
    "sns.histplot(data = df['Sulfate'], bins = 50, color = '#eaa92e', stat = 'density', ax = axes[0][2])\n",
    "sns.kdeplot(data = df['Sulfate'], color = 'black', ax = axes[0][2], linewidth = 1)\n",
    "sns.histplot(data = df['Conductivity'], bins = 50, color = '#eaa92e', stat = 'density', ax = axes[1][0])\n",
    "sns.kdeplot(data = df['Conductivity'], color = 'black', ax = axes[1][0], linewidth = 1)\n",
    "sns.histplot(data = df['Chlorine'], bins = 50, color = '#eaa92e', stat = 'density', ax = axes[1][1])\n",
    "sns.kdeplot(data = df['Chlorine'], color = 'black', ax = axes[1][1], linewidth = 1)\n",
    "sns.histplot(data = df['Manganese'], bins = 50, color = '#eaa92e', stat = 'density', ax = axes[1][2])\n",
    "sns.kdeplot(data = df['Manganese'], color = 'black', ax = axes[1][2], linewidth = 1)\n",
    "sns.histplot(data = df['Total_Diss_Solids'], bins = 50, color = '#eaa92e', stat = 'density', ax = axes[2][0])\n",
    "sns.kdeplot(data = df['Total_Diss_Solids'], color = 'black', ax = axes[2][0], linewidth = 1)\n",
    "axes[2][1].remove()\n",
    "axes[2][2].remove()\n",
    "\n",
    "plt.show()"
   ]
  },
  {
   "cell_type": "code",
   "execution_count": 83,
   "metadata": {},
   "outputs": [
    {
     "data": {
      "image/png": "[encoded data removed]",
      "text/plain": [
       "<Figure size 1200x600 with 2 Axes>"
      ]
     },
     "metadata": {},
     "output_type": "display_data"
    }
   ],
   "source": [
    "df_corr = df.corr()\n",
    "plt.figure(figsize = (12, 6))\n",
    "sns.heatmap(df_corr, annot = True, cmap = 'BrBG', fmt = '.2f')\n",
    "plt.show()"
   ]
  },
  {
   "cell_type": "markdown",
   "metadata": {},
   "source": [
    "# Target Imbalanced"
   ]
  },
  {
   "cell_type": "code",
   "execution_count": 87,
   "metadata": {},
   "outputs": [
    {
     "data": {
      "image/png": "[encoded data removed]",
      "text/plain": [
       "<Figure size 640x480 with 1 Axes>"
      ]
     },
     "metadata": {},
     "output_type": "display_data"
    }
   ],
   "source": [
    "palette1 = ['#E68753', '#409996']\n",
    "plt.figure()\n",
    "sns.countplot(x = df['Potability'], data = df, palette = palette1, hue = df['Potability'], legend = False)\n",
    "plt.show()"
   ]
  },
  {
   "cell_type": "code",
   "execution_count": 88,
   "metadata": {},
   "outputs": [],
   "source": [
    "X = df.drop(columns = ['Potability'])\n",
    "y = df['Potability']"
   ]
  },
  {
   "cell_type": "code",
   "execution_count": 89,
   "metadata": {},
   "outputs": [],
   "source": [
    "rus = RandomUnderSampler(random_state = 1)"
   ]
  },
  {
   "cell_type": "code",
   "execution_count": 90,
   "metadata": {},
   "outputs": [],
   "source": [
    "X_resampled, y_resampled = rus.fit_resample(X, y)"
   ]
  },
  {
   "cell_type": "code",
   "execution_count": 91,
   "metadata": {},
   "outputs": [],
   "source": [
    "df = pd.concat([pd.DataFrame(X_resampled, columns = X.columns), pd.Series(y_resampled, name = 'Potability')], axis=1)\n",
    "df.reset_index(drop = True, inplace = True)"
   ]
  },
  {
   "cell_type": "code",
   "execution_count": 93,
   "metadata": {},
   "outputs": [
    {
     "data": {
      "image/png": "[encoded data removed]",
      "text/plain": [
       "<Figure size 640x480 with 1 Axes>"
      ]
     },
     "metadata": {},
     "output_type": "display_data"
    }
   ],
   "source": [
    "plt.figure()\n",
    "ax = sns.countplot(x = df['Potability'], data = df, palette = palette1, hue = df['Potability'], legend = False)\n",
    "plt.show()"
   ]
  },
  {
   "cell_type": "markdown",
   "metadata": {},
   "source": [
    "# Split the data in train and test"
   ]
  },
  {
   "cell_type": "code",
   "execution_count": 94,
   "metadata": {},
   "outputs": [],
   "source": [
    "df1 = df.copy()\n",
    "df1 = df1.sample(frac = 1, random_state = 1)"
   ]
  },
  {
   "cell_type": "code",
   "execution_count": 95,
   "metadata": {},
   "outputs": [],
   "source": [
    "df1 = df1[:20000]"
   ]
  },
  {
   "cell_type": "code",
   "execution_count": 96,
   "metadata": {},
   "outputs": [],
   "source": [
    "X = df.drop('Potability', axis = 1)\n",
    "y = df['Potability']\n",
    "X1 = df1.drop('Potability', axis = 1)\n",
    "y1 = df1['Potability']"
   ]
  },
  {
   "cell_type": "code",
   "execution_count": 97,
   "metadata": {},
   "outputs": [
    {
     "name": "stdout",
     "output_type": "stream",
     "text": [
      "Target\n",
      "0    10016\n",
      "1     9984\n",
      "Name: count, dtype: int64\n",
      "(20000, 16)\n"
     ]
    }
   ],
   "source": [
    "print(y1.value_counts())\n",
    "print(X1.shape)"
   ]
  },
  {
   "cell_type": "code",
   "execution_count": 98,
   "metadata": {},
   "outputs": [
    {
     "data": {
      "text/plain": [
       "((14000, 16), (6000, 16), (14000,), (6000,))"
      ]
     },
     "execution_count": 98,
     "metadata": {},
     "output_type": "execute_result"
    }
   ],
   "source": [
    "X_train, X_test, y_train, y_test = train_test_split(X1, y1, test_size = 0.3, random_state = 1)\n",
    "X_train.shape, X_test.shape, y_train.shape, y_test.shape"
   ]
  },
  {
   "cell_type": "code",
   "execution_count": 99,
   "metadata": {},
   "outputs": [
    {
     "data": {
      "text/plain": [
       "((337027, 16), (144441, 16), (337027,), (144441,))"
      ]
     },
     "execution_count": 99,
     "metadata": {},
     "output_type": "execute_result"
    }
   ],
   "source": [
    "X_train_full, X_test_full, y_train_full, y_test_full = train_test_split(X, y, test_size = 0.3, random_state = 1)\n",
    "X_train_full.shape, X_test_full.shape, y_train_full.shape, y_test_full.shape"
   ]
  },
  {
   "cell_type": "markdown",
   "metadata": {},
   "source": [
    "# Predict the potability of the water"
   ]
  },
  {
   "cell_type": "markdown",
   "metadata": {},
   "source": [
    "## SVM model"
   ]
  },
  {
   "cell_type": "code",
   "execution_count": 100,
   "metadata": {},
   "outputs": [],
   "source": [
    "clf_svm = svm.SVC(random_state = 1)\n",
    "clf_svm.fit(X_train, y_train)\n",
    "y_pred_svm = clf_svm.predict(X_test)"
   ]
  },
  {
   "cell_type": "code",
   "execution_count": 101,
   "metadata": {},
   "outputs": [
    {
     "name": "stdout",
     "output_type": "stream",
     "text": [
      "F1 score for the svm model applied to the dataset: 71.52%, 57.52%\n"
     ]
    }
   ],
   "source": [
    "f1_score_svm = f1_score(y_test, y_pred_svm, average = None, labels = [0, 1])\n",
    "print(f'F1 score for the svm model applied to the dataset: {f1_score_svm[0] * 100:.2f}%, {f1_score_svm[1] * 100:.2f}%')"
   ]
  },
  {
   "cell_type": "markdown",
   "metadata": {},
   "source": [
    "Not the best score for our model, we'll try to improve that by standardizing the train dataset with a pipeline. "
   ]
  },
  {
   "cell_type": "code",
   "execution_count": 102,
   "metadata": {},
   "outputs": [],
   "source": [
    "pipe_svm = make_pipeline(StandardScaler(), clf_svm)\n",
    "pipe_svm.fit(X_train, y_train)\n",
    "y_pred_pipe_svm = pipe_svm.predict(X_test)"
   ]
  },
  {
   "cell_type": "code",
   "execution_count": 103,
   "metadata": {},
   "outputs": [
    {
     "name": "stdout",
     "output_type": "stream",
     "text": [
      "F1 score for the pipeline svm model applied to the dataset: 86.01%, 87.02%\n"
     ]
    }
   ],
   "source": [
    "f1_score_pipe_svm = f1_score(y_test, y_pred_pipe_svm, average = None, labels = [0, 1])\n",
    "print(f'F1 score for the pipeline svm model applied to the dataset: {f1_score_pipe_svm[0] * 100:.2f}%, {f1_score_pipe_svm[1] * 100:.2f}%')"
   ]
  },
  {
   "cell_type": "code",
   "execution_count": 104,
   "metadata": {},
   "outputs": [
    {
     "name": "stdout",
     "output_type": "stream",
     "text": [
      "F1 score for the svm model applied to the full dataset: 85.87%, 86.59%\n"
     ]
    }
   ],
   "source": [
    "y_pred_full_svm = pipe_svm.predict(X_test_full)\n",
    "f1_score_full_svm = f1_score(y_test_full, y_pred_full_svm, average = None, labels = [0, 1])\n",
    "print(f'F1 score for the svm model applied to the full dataset: {f1_score_full_svm[0] * 100:.2f}%, {f1_score_full_svm[1] * 100:.2f}%')"
   ]
  },
  {
   "cell_type": "code",
   "execution_count": 105,
   "metadata": {},
   "outputs": [],
   "source": [
    "with open('./models/potability_classifier_svm.pkl', 'wb') as f:\n",
    "    pickle.dump(pipe_svm, f)"
   ]
  },
  {
   "cell_type": "markdown",
   "metadata": {},
   "source": [
    "## Logistic Regression model"
   ]
  },
  {
   "cell_type": "code",
   "execution_count": 106,
   "metadata": {},
   "outputs": [],
   "source": [
    "clf_log = LogisticRegression(max_iter = 10000, random_state = 1)\n",
    "clf_log.fit(X_train, y_train)\n",
    "y_pred_log = clf_log.predict(X_test)"
   ]
  },
  {
   "cell_type": "code",
   "execution_count": 107,
   "metadata": {},
   "outputs": [],
   "source": [
    "f1_score_log = f1_score(y_test, y_pred_log, average = None, labels = [0, 1])\n",
    "solver0 = clf_log.get_params()['solver']\n",
    "C0 = clf_log.get_params()['C']\n",
    "penalty0 = clf_log.get_params()['penalty']"
   ]
  },
  {
   "cell_type": "code",
   "execution_count": 108,
   "metadata": {},
   "outputs": [
    {
     "name": "stderr",
     "output_type": "stream",
     "text": [
      "c:\\Users\\Marco\\AppData\\Local\\Programs\\Python\\Python311\\Lib\\site-packages\\sklearn\\linear_model\\_logistic.py:1193: UserWarning:\n",
      "\n",
      "Setting penalty=None will ignore the C and l1_ratio parameters\n",
      "\n",
      "c:\\Users\\Marco\\AppData\\Local\\Programs\\Python\\Python311\\Lib\\site-packages\\sklearn\\linear_model\\_logistic.py:1193: UserWarning:\n",
      "\n",
      "Setting penalty=None will ignore the C and l1_ratio parameters\n",
      "\n",
      "c:\\Users\\Marco\\AppData\\Local\\Programs\\Python\\Python311\\Lib\\site-packages\\sklearn\\linear_model\\_logistic.py:1193: UserWarning:\n",
      "\n",
      "Setting penalty=None will ignore the C and l1_ratio parameters\n",
      "\n",
      "c:\\Users\\Marco\\AppData\\Local\\Programs\\Python\\Python311\\Lib\\site-packages\\sklearn\\linear_model\\_logistic.py:1193: UserWarning:\n",
      "\n",
      "Setting penalty=None will ignore the C and l1_ratio parameters\n",
      "\n",
      "c:\\Users\\Marco\\AppData\\Local\\Programs\\Python\\Python311\\Lib\\site-packages\\sklearn\\linear_model\\_logistic.py:1193: UserWarning:\n",
      "\n",
      "Setting penalty=None will ignore the C and l1_ratio parameters\n",
      "\n",
      "c:\\Users\\Marco\\AppData\\Local\\Programs\\Python\\Python311\\Lib\\site-packages\\sklearn\\linear_model\\_logistic.py:1193: UserWarning:\n",
      "\n",
      "Setting penalty=None will ignore the C and l1_ratio parameters\n",
      "\n",
      "c:\\Users\\Marco\\AppData\\Local\\Programs\\Python\\Python311\\Lib\\site-packages\\sklearn\\linear_model\\_logistic.py:1193: UserWarning:\n",
      "\n",
      "Setting penalty=None will ignore the C and l1_ratio parameters\n",
      "\n",
      "c:\\Users\\Marco\\AppData\\Local\\Programs\\Python\\Python311\\Lib\\site-packages\\sklearn\\linear_model\\_logistic.py:1193: UserWarning:\n",
      "\n",
      "Setting penalty=None will ignore the C and l1_ratio parameters\n",
      "\n",
      "c:\\Users\\Marco\\AppData\\Local\\Programs\\Python\\Python311\\Lib\\site-packages\\sklearn\\linear_model\\_logistic.py:1193: UserWarning:\n",
      "\n",
      "Setting penalty=None will ignore the C and l1_ratio parameters\n",
      "\n",
      "c:\\Users\\Marco\\AppData\\Local\\Programs\\Python\\Python311\\Lib\\site-packages\\scipy\\optimize\\_linesearch.py:314: LineSearchWarning:\n",
      "\n",
      "The line search algorithm did not converge\n",
      "\n",
      "c:\\Users\\Marco\\AppData\\Local\\Programs\\Python\\Python311\\Lib\\site-packages\\sklearn\\utils\\optimize.py:204: UserWarning:\n",
      "\n",
      "Line Search failed\n",
      "\n",
      "c:\\Users\\Marco\\AppData\\Local\\Programs\\Python\\Python311\\Lib\\site-packages\\scipy\\optimize\\_linesearch.py:425: LineSearchWarning:\n",
      "\n",
      "Rounding errors prevent the line search from converging\n",
      "\n",
      "c:\\Users\\Marco\\AppData\\Local\\Programs\\Python\\Python311\\Lib\\site-packages\\scipy\\optimize\\_linesearch.py:314: LineSearchWarning:\n",
      "\n",
      "The line search algorithm did not converge\n",
      "\n",
      "c:\\Users\\Marco\\AppData\\Local\\Programs\\Python\\Python311\\Lib\\site-packages\\sklearn\\utils\\optimize.py:204: UserWarning:\n",
      "\n",
      "Line Search failed\n",
      "\n",
      "c:\\Users\\Marco\\AppData\\Local\\Programs\\Python\\Python311\\Lib\\site-packages\\sklearn\\linear_model\\_logistic.py:1193: UserWarning:\n",
      "\n",
      "Setting penalty=None will ignore the C and l1_ratio parameters\n",
      "\n",
      "c:\\Users\\Marco\\AppData\\Local\\Programs\\Python\\Python311\\Lib\\site-packages\\sklearn\\linear_model\\_logistic.py:1193: UserWarning:\n",
      "\n",
      "Setting penalty=None will ignore the C and l1_ratio parameters\n",
      "\n",
      "c:\\Users\\Marco\\AppData\\Local\\Programs\\Python\\Python311\\Lib\\site-packages\\sklearn\\linear_model\\_logistic.py:1193: UserWarning:\n",
      "\n",
      "Setting penalty=None will ignore the C and l1_ratio parameters\n",
      "\n",
      "c:\\Users\\Marco\\AppData\\Local\\Programs\\Python\\Python311\\Lib\\site-packages\\sklearn\\linear_model\\_logistic.py:1193: UserWarning:\n",
      "\n",
      "Setting penalty=None will ignore the C and l1_ratio parameters\n",
      "\n",
      "c:\\Users\\Marco\\AppData\\Local\\Programs\\Python\\Python311\\Lib\\site-packages\\sklearn\\linear_model\\_logistic.py:1193: UserWarning:\n",
      "\n",
      "Setting penalty=None will ignore the C and l1_ratio parameters\n",
      "\n",
      "c:\\Users\\Marco\\AppData\\Local\\Programs\\Python\\Python311\\Lib\\site-packages\\sklearn\\linear_model\\_logistic.py:1193: UserWarning:\n",
      "\n",
      "Setting penalty=None will ignore the C and l1_ratio parameters\n",
      "\n",
      "c:\\Users\\Marco\\AppData\\Local\\Programs\\Python\\Python311\\Lib\\site-packages\\sklearn\\linear_model\\_logistic.py:1193: UserWarning:\n",
      "\n",
      "Setting penalty=None will ignore the C and l1_ratio parameters\n",
      "\n",
      "c:\\Users\\Marco\\AppData\\Local\\Programs\\Python\\Python311\\Lib\\site-packages\\sklearn\\linear_model\\_logistic.py:1193: UserWarning:\n",
      "\n",
      "Setting penalty=None will ignore the C and l1_ratio parameters\n",
      "\n",
      "c:\\Users\\Marco\\AppData\\Local\\Programs\\Python\\Python311\\Lib\\site-packages\\sklearn\\linear_model\\_logistic.py:1193: UserWarning:\n",
      "\n",
      "Setting penalty=None will ignore the C and l1_ratio parameters\n",
      "\n",
      "c:\\Users\\Marco\\AppData\\Local\\Programs\\Python\\Python311\\Lib\\site-packages\\sklearn\\linear_model\\_logistic.py:1193: UserWarning:\n",
      "\n",
      "Setting penalty=None will ignore the C and l1_ratio parameters\n",
      "\n",
      "c:\\Users\\Marco\\AppData\\Local\\Programs\\Python\\Python311\\Lib\\site-packages\\sklearn\\linear_model\\_logistic.py:1193: UserWarning:\n",
      "\n",
      "Setting penalty=None will ignore the C and l1_ratio parameters\n",
      "\n",
      "c:\\Users\\Marco\\AppData\\Local\\Programs\\Python\\Python311\\Lib\\site-packages\\sklearn\\linear_model\\_logistic.py:1193: UserWarning:\n",
      "\n",
      "Setting penalty=None will ignore the C and l1_ratio parameters\n",
      "\n"
     ]
    }
   ],
   "source": [
    "# grid search for lbfgs newton-cg sag newton-cholesky\n",
    "grid1 = {'solver' : ['lbfgs', 'newton-cg', 'sag', 'newton-cholesky'],\n",
    "              'penalty' : [None, 'l2'],\n",
    "              'C'  : np.logspace(-3,3,7)}\n",
    "clf_log_cv1 = RandomizedSearchCV(clf_log, grid1, cv = 3, scoring = 'accuracy', error_score = 'raise')\n",
    "clf_log_cv1.fit(X_train, y_train)\n",
    "pipe_log1 = make_pipeline(StandardScaler(), clf_log_cv1)\n",
    "pipe_log1.fit(X_train, y_train)\n",
    "y_pred_pipe_log1 = pipe_log1.predict(X_test)\n",
    "f1_score_pipe_log1 = f1_score(y_test, y_pred_pipe_log1, average = None, labels = [0, 1])\n",
    "solver1 = clf_log_cv1.best_params_['solver']\n",
    "C1 = clf_log_cv1.best_params_['C']\n",
    "penalty1 = clf_log_cv1.best_params_['penalty']"
   ]
  },
  {
   "cell_type": "code",
   "execution_count": 109,
   "metadata": {},
   "outputs": [],
   "source": [
    "# grid search for liblinear\n",
    "grid2 = {'penalty' : ['l1', 'l2'],\n",
    "        'C' : np.logspace(-3,3,7)}\n",
    "clf_log_cv2 = GridSearchCV(LogisticRegression(solver = 'liblinear', max_iter = 10000), grid2, cv = 3, scoring = 'accuracy', error_score = 'raise')\n",
    "clf_log_cv2.fit(X_train, y_train)\n",
    "pipe_log2 = make_pipeline(StandardScaler(), clf_log_cv2)\n",
    "pipe_log2.fit(X_train, y_train)\n",
    "y_pred_pipe_log2 = pipe_log2.predict(X_test)\n",
    "f1_score_pipe_log2 = f1_score(y_test, y_pred_pipe_log2, average = None, labels = [0, 1])\n",
    "C2 = clf_log_cv2.best_params_['C']\n",
    "penalty2 = clf_log_cv2.best_params_['penalty']"
   ]
  },
  {
   "cell_type": "code",
   "execution_count": 110,
   "metadata": {},
   "outputs": [
    {
     "name": "stderr",
     "output_type": "stream",
     "text": [
      "c:\\Users\\Marco\\AppData\\Local\\Programs\\Python\\Python311\\Lib\\site-packages\\sklearn\\linear_model\\_logistic.py:1172: UserWarning:\n",
      "\n",
      "l1_ratio parameter is only used when penalty is 'elasticnet'. Got (penalty=None)\n",
      "\n",
      "c:\\Users\\Marco\\AppData\\Local\\Programs\\Python\\Python311\\Lib\\site-packages\\sklearn\\linear_model\\_logistic.py:1193: UserWarning:\n",
      "\n",
      "Setting penalty=None will ignore the C and l1_ratio parameters\n",
      "\n",
      "c:\\Users\\Marco\\AppData\\Local\\Programs\\Python\\Python311\\Lib\\site-packages\\sklearn\\linear_model\\_logistic.py:1172: UserWarning:\n",
      "\n",
      "l1_ratio parameter is only used when penalty is 'elasticnet'. Got (penalty=None)\n",
      "\n",
      "c:\\Users\\Marco\\AppData\\Local\\Programs\\Python\\Python311\\Lib\\site-packages\\sklearn\\linear_model\\_logistic.py:1193: UserWarning:\n",
      "\n",
      "Setting penalty=None will ignore the C and l1_ratio parameters\n",
      "\n",
      "c:\\Users\\Marco\\AppData\\Local\\Programs\\Python\\Python311\\Lib\\site-packages\\sklearn\\linear_model\\_logistic.py:1172: UserWarning:\n",
      "\n",
      "l1_ratio parameter is only used when penalty is 'elasticnet'. Got (penalty=None)\n",
      "\n",
      "c:\\Users\\Marco\\AppData\\Local\\Programs\\Python\\Python311\\Lib\\site-packages\\sklearn\\linear_model\\_logistic.py:1193: UserWarning:\n",
      "\n",
      "Setting penalty=None will ignore the C and l1_ratio parameters\n",
      "\n",
      "c:\\Users\\Marco\\AppData\\Local\\Programs\\Python\\Python311\\Lib\\site-packages\\sklearn\\linear_model\\_logistic.py:1172: UserWarning:\n",
      "\n",
      "l1_ratio parameter is only used when penalty is 'elasticnet'. Got (penalty=l1)\n",
      "\n",
      "c:\\Users\\Marco\\AppData\\Local\\Programs\\Python\\Python311\\Lib\\site-packages\\sklearn\\linear_model\\_logistic.py:1172: UserWarning:\n",
      "\n",
      "l1_ratio parameter is only used when penalty is 'elasticnet'. Got (penalty=l1)\n",
      "\n",
      "c:\\Users\\Marco\\AppData\\Local\\Programs\\Python\\Python311\\Lib\\site-packages\\sklearn\\linear_model\\_logistic.py:1172: UserWarning:\n",
      "\n",
      "l1_ratio parameter is only used when penalty is 'elasticnet'. Got (penalty=l1)\n",
      "\n",
      "c:\\Users\\Marco\\AppData\\Local\\Programs\\Python\\Python311\\Lib\\site-packages\\sklearn\\linear_model\\_logistic.py:1172: UserWarning:\n",
      "\n",
      "l1_ratio parameter is only used when penalty is 'elasticnet'. Got (penalty=l1)\n",
      "\n",
      "c:\\Users\\Marco\\AppData\\Local\\Programs\\Python\\Python311\\Lib\\site-packages\\sklearn\\linear_model\\_logistic.py:1172: UserWarning:\n",
      "\n",
      "l1_ratio parameter is only used when penalty is 'elasticnet'. Got (penalty=l1)\n",
      "\n",
      "c:\\Users\\Marco\\AppData\\Local\\Programs\\Python\\Python311\\Lib\\site-packages\\sklearn\\linear_model\\_logistic.py:1172: UserWarning:\n",
      "\n",
      "l1_ratio parameter is only used when penalty is 'elasticnet'. Got (penalty=l1)\n",
      "\n",
      "c:\\Users\\Marco\\AppData\\Local\\Programs\\Python\\Python311\\Lib\\site-packages\\sklearn\\linear_model\\_logistic.py:1172: UserWarning:\n",
      "\n",
      "l1_ratio parameter is only used when penalty is 'elasticnet'. Got (penalty=None)\n",
      "\n",
      "c:\\Users\\Marco\\AppData\\Local\\Programs\\Python\\Python311\\Lib\\site-packages\\sklearn\\linear_model\\_logistic.py:1193: UserWarning:\n",
      "\n",
      "Setting penalty=None will ignore the C and l1_ratio parameters\n",
      "\n",
      "c:\\Users\\Marco\\AppData\\Local\\Programs\\Python\\Python311\\Lib\\site-packages\\sklearn\\linear_model\\_logistic.py:1172: UserWarning:\n",
      "\n",
      "l1_ratio parameter is only used when penalty is 'elasticnet'. Got (penalty=None)\n",
      "\n",
      "c:\\Users\\Marco\\AppData\\Local\\Programs\\Python\\Python311\\Lib\\site-packages\\sklearn\\linear_model\\_logistic.py:1193: UserWarning:\n",
      "\n",
      "Setting penalty=None will ignore the C and l1_ratio parameters\n",
      "\n",
      "c:\\Users\\Marco\\AppData\\Local\\Programs\\Python\\Python311\\Lib\\site-packages\\sklearn\\linear_model\\_logistic.py:1172: UserWarning:\n",
      "\n",
      "l1_ratio parameter is only used when penalty is 'elasticnet'. Got (penalty=None)\n",
      "\n",
      "c:\\Users\\Marco\\AppData\\Local\\Programs\\Python\\Python311\\Lib\\site-packages\\sklearn\\linear_model\\_logistic.py:1193: UserWarning:\n",
      "\n",
      "Setting penalty=None will ignore the C and l1_ratio parameters\n",
      "\n",
      "c:\\Users\\Marco\\AppData\\Local\\Programs\\Python\\Python311\\Lib\\site-packages\\sklearn\\linear_model\\_logistic.py:1172: UserWarning:\n",
      "\n",
      "l1_ratio parameter is only used when penalty is 'elasticnet'. Got (penalty=l1)\n",
      "\n",
      "c:\\Users\\Marco\\AppData\\Local\\Programs\\Python\\Python311\\Lib\\site-packages\\sklearn\\linear_model\\_logistic.py:1172: UserWarning:\n",
      "\n",
      "l1_ratio parameter is only used when penalty is 'elasticnet'. Got (penalty=l1)\n",
      "\n",
      "c:\\Users\\Marco\\AppData\\Local\\Programs\\Python\\Python311\\Lib\\site-packages\\sklearn\\linear_model\\_logistic.py:1172: UserWarning:\n",
      "\n",
      "l1_ratio parameter is only used when penalty is 'elasticnet'. Got (penalty=l1)\n",
      "\n",
      "c:\\Users\\Marco\\AppData\\Local\\Programs\\Python\\Python311\\Lib\\site-packages\\sklearn\\linear_model\\_logistic.py:1172: UserWarning:\n",
      "\n",
      "l1_ratio parameter is only used when penalty is 'elasticnet'. Got (penalty=l2)\n",
      "\n",
      "c:\\Users\\Marco\\AppData\\Local\\Programs\\Python\\Python311\\Lib\\site-packages\\sklearn\\linear_model\\_logistic.py:1172: UserWarning:\n",
      "\n",
      "l1_ratio parameter is only used when penalty is 'elasticnet'. Got (penalty=l2)\n",
      "\n",
      "c:\\Users\\Marco\\AppData\\Local\\Programs\\Python\\Python311\\Lib\\site-packages\\sklearn\\linear_model\\_logistic.py:1172: UserWarning:\n",
      "\n",
      "l1_ratio parameter is only used when penalty is 'elasticnet'. Got (penalty=l2)\n",
      "\n",
      "c:\\Users\\Marco\\AppData\\Local\\Programs\\Python\\Python311\\Lib\\site-packages\\sklearn\\linear_model\\_logistic.py:1172: UserWarning:\n",
      "\n",
      "l1_ratio parameter is only used when penalty is 'elasticnet'. Got (penalty=None)\n",
      "\n",
      "c:\\Users\\Marco\\AppData\\Local\\Programs\\Python\\Python311\\Lib\\site-packages\\sklearn\\linear_model\\_logistic.py:1193: UserWarning:\n",
      "\n",
      "Setting penalty=None will ignore the C and l1_ratio parameters\n",
      "\n",
      "c:\\Users\\Marco\\AppData\\Local\\Programs\\Python\\Python311\\Lib\\site-packages\\sklearn\\linear_model\\_logistic.py:1172: UserWarning:\n",
      "\n",
      "l1_ratio parameter is only used when penalty is 'elasticnet'. Got (penalty=None)\n",
      "\n",
      "c:\\Users\\Marco\\AppData\\Local\\Programs\\Python\\Python311\\Lib\\site-packages\\sklearn\\linear_model\\_logistic.py:1193: UserWarning:\n",
      "\n",
      "Setting penalty=None will ignore the C and l1_ratio parameters\n",
      "\n",
      "c:\\Users\\Marco\\AppData\\Local\\Programs\\Python\\Python311\\Lib\\site-packages\\sklearn\\linear_model\\_logistic.py:1172: UserWarning:\n",
      "\n",
      "l1_ratio parameter is only used when penalty is 'elasticnet'. Got (penalty=None)\n",
      "\n",
      "c:\\Users\\Marco\\AppData\\Local\\Programs\\Python\\Python311\\Lib\\site-packages\\sklearn\\linear_model\\_logistic.py:1193: UserWarning:\n",
      "\n",
      "Setting penalty=None will ignore the C and l1_ratio parameters\n",
      "\n",
      "c:\\Users\\Marco\\AppData\\Local\\Programs\\Python\\Python311\\Lib\\site-packages\\sklearn\\linear_model\\_logistic.py:1172: UserWarning:\n",
      "\n",
      "l1_ratio parameter is only used when penalty is 'elasticnet'. Got (penalty=None)\n",
      "\n",
      "c:\\Users\\Marco\\AppData\\Local\\Programs\\Python\\Python311\\Lib\\site-packages\\sklearn\\linear_model\\_logistic.py:1193: UserWarning:\n",
      "\n",
      "Setting penalty=None will ignore the C and l1_ratio parameters\n",
      "\n",
      "c:\\Users\\Marco\\AppData\\Local\\Programs\\Python\\Python311\\Lib\\site-packages\\sklearn\\linear_model\\_logistic.py:1172: UserWarning:\n",
      "\n",
      "l1_ratio parameter is only used when penalty is 'elasticnet'. Got (penalty=None)\n",
      "\n",
      "c:\\Users\\Marco\\AppData\\Local\\Programs\\Python\\Python311\\Lib\\site-packages\\sklearn\\linear_model\\_logistic.py:1193: UserWarning:\n",
      "\n",
      "Setting penalty=None will ignore the C and l1_ratio parameters\n",
      "\n",
      "c:\\Users\\Marco\\AppData\\Local\\Programs\\Python\\Python311\\Lib\\site-packages\\sklearn\\linear_model\\_logistic.py:1172: UserWarning:\n",
      "\n",
      "l1_ratio parameter is only used when penalty is 'elasticnet'. Got (penalty=None)\n",
      "\n",
      "c:\\Users\\Marco\\AppData\\Local\\Programs\\Python\\Python311\\Lib\\site-packages\\sklearn\\linear_model\\_logistic.py:1193: UserWarning:\n",
      "\n",
      "Setting penalty=None will ignore the C and l1_ratio parameters\n",
      "\n",
      "c:\\Users\\Marco\\AppData\\Local\\Programs\\Python\\Python311\\Lib\\site-packages\\sklearn\\linear_model\\_logistic.py:1172: UserWarning:\n",
      "\n",
      "l1_ratio parameter is only used when penalty is 'elasticnet'. Got (penalty=l2)\n",
      "\n",
      "c:\\Users\\Marco\\AppData\\Local\\Programs\\Python\\Python311\\Lib\\site-packages\\sklearn\\linear_model\\_logistic.py:1172: UserWarning:\n",
      "\n",
      "l1_ratio parameter is only used when penalty is 'elasticnet'. Got (penalty=l1)\n",
      "\n",
      "c:\\Users\\Marco\\AppData\\Local\\Programs\\Python\\Python311\\Lib\\site-packages\\sklearn\\linear_model\\_logistic.py:1172: UserWarning:\n",
      "\n",
      "l1_ratio parameter is only used when penalty is 'elasticnet'. Got (penalty=l1)\n",
      "\n",
      "c:\\Users\\Marco\\AppData\\Local\\Programs\\Python\\Python311\\Lib\\site-packages\\sklearn\\linear_model\\_logistic.py:1172: UserWarning:\n",
      "\n",
      "l1_ratio parameter is only used when penalty is 'elasticnet'. Got (penalty=l1)\n",
      "\n",
      "c:\\Users\\Marco\\AppData\\Local\\Programs\\Python\\Python311\\Lib\\site-packages\\sklearn\\linear_model\\_logistic.py:1172: UserWarning:\n",
      "\n",
      "l1_ratio parameter is only used when penalty is 'elasticnet'. Got (penalty=l2)\n",
      "\n",
      "c:\\Users\\Marco\\AppData\\Local\\Programs\\Python\\Python311\\Lib\\site-packages\\sklearn\\linear_model\\_logistic.py:1172: UserWarning:\n",
      "\n",
      "l1_ratio parameter is only used when penalty is 'elasticnet'. Got (penalty=l2)\n",
      "\n",
      "c:\\Users\\Marco\\AppData\\Local\\Programs\\Python\\Python311\\Lib\\site-packages\\sklearn\\linear_model\\_logistic.py:1172: UserWarning:\n",
      "\n",
      "l1_ratio parameter is only used when penalty is 'elasticnet'. Got (penalty=l2)\n",
      "\n",
      "c:\\Users\\Marco\\AppData\\Local\\Programs\\Python\\Python311\\Lib\\site-packages\\sklearn\\linear_model\\_logistic.py:1172: UserWarning:\n",
      "\n",
      "l1_ratio parameter is only used when penalty is 'elasticnet'. Got (penalty=l2)\n",
      "\n",
      "c:\\Users\\Marco\\AppData\\Local\\Programs\\Python\\Python311\\Lib\\site-packages\\sklearn\\linear_model\\_logistic.py:1172: UserWarning:\n",
      "\n",
      "l1_ratio parameter is only used when penalty is 'elasticnet'. Got (penalty=l2)\n",
      "\n",
      "c:\\Users\\Marco\\AppData\\Local\\Programs\\Python\\Python311\\Lib\\site-packages\\sklearn\\linear_model\\_logistic.py:1172: UserWarning:\n",
      "\n",
      "l1_ratio parameter is only used when penalty is 'elasticnet'. Got (penalty=l2)\n",
      "\n",
      "c:\\Users\\Marco\\AppData\\Local\\Programs\\Python\\Python311\\Lib\\site-packages\\sklearn\\linear_model\\_logistic.py:1172: UserWarning:\n",
      "\n",
      "l1_ratio parameter is only used when penalty is 'elasticnet'. Got (penalty=l2)\n",
      "\n",
      "c:\\Users\\Marco\\AppData\\Local\\Programs\\Python\\Python311\\Lib\\site-packages\\sklearn\\linear_model\\_logistic.py:1172: UserWarning:\n",
      "\n",
      "l1_ratio parameter is only used when penalty is 'elasticnet'. Got (penalty=l2)\n",
      "\n",
      "c:\\Users\\Marco\\AppData\\Local\\Programs\\Python\\Python311\\Lib\\site-packages\\sklearn\\linear_model\\_logistic.py:1172: UserWarning:\n",
      "\n",
      "l1_ratio parameter is only used when penalty is 'elasticnet'. Got (penalty=l2)\n",
      "\n",
      "c:\\Users\\Marco\\AppData\\Local\\Programs\\Python\\Python311\\Lib\\site-packages\\sklearn\\linear_model\\_logistic.py:1172: UserWarning:\n",
      "\n",
      "l1_ratio parameter is only used when penalty is 'elasticnet'. Got (penalty=None)\n",
      "\n",
      "c:\\Users\\Marco\\AppData\\Local\\Programs\\Python\\Python311\\Lib\\site-packages\\sklearn\\linear_model\\_logistic.py:1193: UserWarning:\n",
      "\n",
      "Setting penalty=None will ignore the C and l1_ratio parameters\n",
      "\n",
      "c:\\Users\\Marco\\AppData\\Local\\Programs\\Python\\Python311\\Lib\\site-packages\\sklearn\\linear_model\\_logistic.py:1172: UserWarning:\n",
      "\n",
      "l1_ratio parameter is only used when penalty is 'elasticnet'. Got (penalty=None)\n",
      "\n",
      "c:\\Users\\Marco\\AppData\\Local\\Programs\\Python\\Python311\\Lib\\site-packages\\sklearn\\linear_model\\_logistic.py:1193: UserWarning:\n",
      "\n",
      "Setting penalty=None will ignore the C and l1_ratio parameters\n",
      "\n",
      "c:\\Users\\Marco\\AppData\\Local\\Programs\\Python\\Python311\\Lib\\site-packages\\sklearn\\linear_model\\_logistic.py:1172: UserWarning:\n",
      "\n",
      "l1_ratio parameter is only used when penalty is 'elasticnet'. Got (penalty=None)\n",
      "\n",
      "c:\\Users\\Marco\\AppData\\Local\\Programs\\Python\\Python311\\Lib\\site-packages\\sklearn\\linear_model\\_logistic.py:1193: UserWarning:\n",
      "\n",
      "Setting penalty=None will ignore the C and l1_ratio parameters\n",
      "\n",
      "c:\\Users\\Marco\\AppData\\Local\\Programs\\Python\\Python311\\Lib\\site-packages\\sklearn\\linear_model\\_logistic.py:1172: UserWarning:\n",
      "\n",
      "l1_ratio parameter is only used when penalty is 'elasticnet'. Got (penalty=l2)\n",
      "\n",
      "c:\\Users\\Marco\\AppData\\Local\\Programs\\Python\\Python311\\Lib\\site-packages\\sklearn\\linear_model\\_logistic.py:1172: UserWarning:\n",
      "\n",
      "l1_ratio parameter is only used when penalty is 'elasticnet'. Got (penalty=l2)\n",
      "\n",
      "c:\\Users\\Marco\\AppData\\Local\\Programs\\Python\\Python311\\Lib\\site-packages\\sklearn\\linear_model\\_logistic.py:1172: UserWarning:\n",
      "\n",
      "l1_ratio parameter is only used when penalty is 'elasticnet'. Got (penalty=l2)\n",
      "\n",
      "c:\\Users\\Marco\\AppData\\Local\\Programs\\Python\\Python311\\Lib\\site-packages\\sklearn\\linear_model\\_logistic.py:1172: UserWarning:\n",
      "\n",
      "l1_ratio parameter is only used when penalty is 'elasticnet'. Got (penalty=l1)\n",
      "\n",
      "c:\\Users\\Marco\\AppData\\Local\\Programs\\Python\\Python311\\Lib\\site-packages\\sklearn\\linear_model\\_logistic.py:1172: UserWarning:\n",
      "\n",
      "l1_ratio parameter is only used when penalty is 'elasticnet'. Got (penalty=l1)\n",
      "\n",
      "c:\\Users\\Marco\\AppData\\Local\\Programs\\Python\\Python311\\Lib\\site-packages\\sklearn\\linear_model\\_logistic.py:1172: UserWarning:\n",
      "\n",
      "l1_ratio parameter is only used when penalty is 'elasticnet'. Got (penalty=l1)\n",
      "\n",
      "c:\\Users\\Marco\\AppData\\Local\\Programs\\Python\\Python311\\Lib\\site-packages\\sklearn\\linear_model\\_logistic.py:1172: UserWarning:\n",
      "\n",
      "l1_ratio parameter is only used when penalty is 'elasticnet'. Got (penalty=l2)\n",
      "\n"
     ]
    }
   ],
   "source": [
    "# randomized search for saga\n",
    "grid3 = {'solver' : ['saga'],\n",
    "         'penalty' : [None, 'elasticnet', 'l1', 'l2'],\n",
    "         'C' : np.logspace(-3,3,7),\n",
    "         'l1_ratio' : [0.1, 0.3, 0.5, 0.7, 0.9]}\n",
    "clf_log_cv3 = RandomizedSearchCV(clf_log, grid3, cv = 3, scoring = 'accuracy', error_score = 'raise')\n",
    "clf_log_cv3.fit(X_train, y_train)\n",
    "pipe_log3 = make_pipeline(StandardScaler(), clf_log_cv3)\n",
    "pipe_log3.fit(X_train, y_train)\n",
    "y_pred_pipe_log3 = pipe_log3.predict(X_test)\n",
    "f1_score_pipe_log_3 = f1_score(y_test, y_pred_pipe_log3, average = None, labels = [0, 1])\n",
    "solver3 = clf_log_cv3.best_params_['solver']\n",
    "C3 = clf_log_cv3.best_params_['C']\n",
    "penalty3 = clf_log_cv3.best_params_['penalty']\n",
    "l1_ratio3 = clf_log_cv3.best_params_['l1_ratio']"
   ]
  },
  {
   "cell_type": "code",
   "execution_count": 111,
   "metadata": {},
   "outputs": [
    {
     "name": "stdout",
     "output_type": "stream",
     "text": [
      "F1 score for the logistic regression model with standard parameters (solver-->lbfgs, C-->1.0, penalty-->l2): 79.49%, 78.13%\n",
      "F1 score for the pipeline logistic regression model with solver-->\"sag\", C-->\"100.0\", penalty-->\"l2\" after hyperparameter tuning: 79.43%, 78.06%\n",
      "F1 score for the pipeline logistic regression model with solver-->\"liblinear\", C-->\"1.0\", penalty-->\"l2\" after hyperparameter tuning: 79.43%, 78.06%\n",
      "F1 score for the pipeline logistic regression model with solver-->\"saga\", C-->\"0.1\", penalty-->\"l2\", l1 ratio-->\"0.5\" after hyperparameter tuning: 79.43%, 78.06%\n"
     ]
    }
   ],
   "source": [
    "print(f'F1 score for the logistic regression model with standard parameters (solver-->{solver0}, C-->{C0}, penalty-->{penalty0}): {f1_score_log[0] * 100:.2f}%, {f1_score_log[1] * 100:.2f}%')\n",
    "print(f'F1 score for the pipeline logistic regression model with solver-->\"{solver1}\", C-->\"{C1}\", penalty-->\"{penalty1}\" after hyperparameter tuning: {f1_score_pipe_log1[0] * 100:.2f}%, {f1_score_pipe_log1[1] * 100:.2f}%')\n",
    "print(f'F1 score for the pipeline logistic regression model with solver-->\"liblinear\", C-->\"{C2}\", penalty-->\"{penalty2}\" after hyperparameter tuning: {f1_score_pipe_log2[0] * 100:.2f}%, {f1_score_pipe_log2[1] * 100:.2f}%')\n",
    "print(f'F1 score for the pipeline logistic regression model with solver-->\"saga\", C-->\"{C3}\", penalty-->\"{penalty3}\", l1 ratio-->\"{l1_ratio3}\" after hyperparameter tuning: {f1_score_pipe_log_3[0] * 100:.2f}%, {f1_score_pipe_log_3[1] * 100:.2f}%')"
   ]
  },
  {
   "cell_type": "code",
   "execution_count": 112,
   "metadata": {},
   "outputs": [
    {
     "name": "stdout",
     "output_type": "stream",
     "text": [
      "F1 score for the logistic regression model applied to the full dataset: 79.99%, 78.23%\n"
     ]
    }
   ],
   "source": [
    "pipe_log = pipe_log2\n",
    "y_pred_full_log = pipe_log.predict(X_test_full)\n",
    "f1_score_full_log = f1_score(y_test_full, y_pred_full_log, average = None, labels = [0, 1])\n",
    "print(f'F1 score for the logistic regression model applied to the full dataset: {f1_score_full_log[0] * 100:.2f}%, {f1_score_full_log[1] * 100:.2f}%')"
   ]
  },
  {
   "cell_type": "code",
   "execution_count": 113,
   "metadata": {},
   "outputs": [],
   "source": [
    "with open('./models/potability_classifier_log.pkl', 'wb') as f:\n",
    "    pickle.dump(pipe_log, f)"
   ]
  }
 ],
 "metadata": {
  "kernelspec": {
   "display_name": "Python 3",
   "language": "python",
   "name": "python3"
  },
  "language_info": {
   "codemirror_mode": {
    "name": "ipython",
    "version": 3
   },
   "file_extension": ".py",
   "mimetype": "text/x-python",
   "name": "python",
   "nbconvert_exporter": "python",
   "pygments_lexer": "ipython3",
   "version": "3.11.3"
  }
 },
 "nbformat": 4,
 "nbformat_minor": 2
}
